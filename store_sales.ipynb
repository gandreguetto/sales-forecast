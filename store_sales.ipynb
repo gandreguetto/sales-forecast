{
 "cells": [
  {
   "cell_type": "markdown",
   "id": "ed575053",
   "metadata": {},
   "source": [
    "# Aplicando Machine Learning na análise de séries temporais para prever as vendas da loja equatoriana \"Favorita\""
   ]
  },
  {
   "cell_type": "markdown",
   "id": "5baf67ab",
   "metadata": {},
   "source": [
    "## Uma visão geral sobre o problema e as técnicas utilizadas\n",
    "\n",
    "Nesta análise são utilizadas técnicas de Machine Learning na análise de séries temporais de vendas de produtos da rede de lojas equatoriana \"Favorita\".\n",
    "\n",
    "Os dados foram obtidos do Kaggle (https://www.kaggle.com/competitions/store-sales-time-series-forecasting/data) e fornecem informações sobre as vendas de 33 famílias de produtos em 54 lojas da rede. Na tabela principal tem-se a quantidade de itens de cada família vendida por dia em cada loja e também a quantidade de itens em promoção. Outras variáves externas, que potencialmente influenciam as vendas, são sugeridas. São elas:\n",
    "\n",
    "- **Valor do petróleo.** A economia do Equador é bastante dependente do petróleo e, portanto, o seu valor pode influenciar o comportamento de compras da população.\n",
    "- **Feriados.**\n",
    "- **Dias de pagamento dos funcionários públicos.** No Equador, os funcionários públicos são pagos quinzenalmente, no dia 15 e no último dia do mês. \n",
    "\n",
    "Nessa primeira análise, apenas uma loja e uma família de produtos foram sorteados para as análises. Para aplicar técnicas de Machine Learning na previsão de vendas da série temporal a função de autocorrelação parcial foi utilizada. A função de autocorrelação parcial é derivada da função de autocorrelação e mede a correlação das vendas com os dias anteriores mas penalizando padrões que se repetem. Por exemplo, se algum valor tem forte correlação com o valor da semana anterior, como é o caso das vendas que será análisado, a função de autocorrelação terá um comportamento períodico com picos a cada semana de atraso na função. A função de autocorrelação parcial atenua esses picos conforme eles se repetem.\n",
    "\n",
    "Uma vez calculadas as autocorrelações parciais, os atrasos (\"lags\") que geram os sinais de maior intensidade são utilizados como \"features\" na modelagem. O problema de análise de uma série temporal é, dessa forma, transformado em um problema tradicional de Machine Learning, no qual as correlações temporais dos dados são transformadas em features, que são os valores das vendas nos devidos \"lags\" principais. \n",
    "\n",
    "Uma das principais vantagens dessa técnica é que váriaveis podem ser incluídas na análise de uma série temporal de forma relativamente simples. Outra vantagem importante é a possibilidade de se utilizar os diversos algorítmos de Machine Learning existentes.  \n",
    "\n",
    "Aqui, o algorítmo XGBoost será utilizado no problema de regressão para se prever as vendas em uma janela de 15 dias. Conforme será visto, as melhores previsões são obtidas quando as \"features\" mencionadas acima são utilizadas excluindo-se os dias de pagamento."
   ]
  },
  {
   "cell_type": "markdown",
   "id": "29717433",
   "metadata": {},
   "source": [
    "## Análises preliminares"
   ]
  },
  {
   "cell_type": "code",
   "execution_count": 2,
   "id": "333676df",
   "metadata": {},
   "outputs": [],
   "source": [
    "# importando as bibliotecas básicas principais\n",
    "import pandas as pd\n",
    "import matplotlib.pyplot as plt\n",
    "import numpy as np"
   ]
  },
  {
   "cell_type": "code",
   "execution_count": 3,
   "id": "eb460356",
   "metadata": {},
   "outputs": [],
   "source": [
    "# importando os dados e utilizando as datas como índice\n",
    "df = pd.read_csv('train.csv', index_col = 'date')"
   ]
  },
  {
   "cell_type": "code",
   "execution_count": 4,
   "id": "8d00a111",
   "metadata": {},
   "outputs": [
    {
     "data": {
      "text/html": [
       "<div>\n",
       "<style scoped>\n",
       "    .dataframe tbody tr th:only-of-type {\n",
       "        vertical-align: middle;\n",
       "    }\n",
       "\n",
       "    .dataframe tbody tr th {\n",
       "        vertical-align: top;\n",
       "    }\n",
       "\n",
       "    .dataframe thead th {\n",
       "        text-align: right;\n",
       "    }\n",
       "</style>\n",
       "<table border=\"1\" class=\"dataframe\">\n",
       "  <thead>\n",
       "    <tr style=\"text-align: right;\">\n",
       "      <th></th>\n",
       "      <th>id</th>\n",
       "      <th>store_nbr</th>\n",
       "      <th>family</th>\n",
       "      <th>sales</th>\n",
       "      <th>onpromotion</th>\n",
       "    </tr>\n",
       "    <tr>\n",
       "      <th>date</th>\n",
       "      <th></th>\n",
       "      <th></th>\n",
       "      <th></th>\n",
       "      <th></th>\n",
       "      <th></th>\n",
       "    </tr>\n",
       "  </thead>\n",
       "  <tbody>\n",
       "    <tr>\n",
       "      <th>2013-01-01</th>\n",
       "      <td>0</td>\n",
       "      <td>1</td>\n",
       "      <td>AUTOMOTIVE</td>\n",
       "      <td>0.0</td>\n",
       "      <td>0</td>\n",
       "    </tr>\n",
       "    <tr>\n",
       "      <th>2013-01-01</th>\n",
       "      <td>1</td>\n",
       "      <td>1</td>\n",
       "      <td>BABY CARE</td>\n",
       "      <td>0.0</td>\n",
       "      <td>0</td>\n",
       "    </tr>\n",
       "    <tr>\n",
       "      <th>2013-01-01</th>\n",
       "      <td>2</td>\n",
       "      <td>1</td>\n",
       "      <td>BEAUTY</td>\n",
       "      <td>0.0</td>\n",
       "      <td>0</td>\n",
       "    </tr>\n",
       "    <tr>\n",
       "      <th>2013-01-01</th>\n",
       "      <td>3</td>\n",
       "      <td>1</td>\n",
       "      <td>BEVERAGES</td>\n",
       "      <td>0.0</td>\n",
       "      <td>0</td>\n",
       "    </tr>\n",
       "    <tr>\n",
       "      <th>2013-01-01</th>\n",
       "      <td>4</td>\n",
       "      <td>1</td>\n",
       "      <td>BOOKS</td>\n",
       "      <td>0.0</td>\n",
       "      <td>0</td>\n",
       "    </tr>\n",
       "  </tbody>\n",
       "</table>\n",
       "</div>"
      ],
      "text/plain": [
       "            id  store_nbr      family  sales  onpromotion\n",
       "date                                                     \n",
       "2013-01-01   0          1  AUTOMOTIVE    0.0            0\n",
       "2013-01-01   1          1   BABY CARE    0.0            0\n",
       "2013-01-01   2          1      BEAUTY    0.0            0\n",
       "2013-01-01   3          1   BEVERAGES    0.0            0\n",
       "2013-01-01   4          1       BOOKS    0.0            0"
      ]
     },
     "execution_count": 4,
     "metadata": {},
     "output_type": "execute_result"
    }
   ],
   "source": [
    "# verificando a estrutura do dataframe\n",
    "df.head()"
   ]
  },
  {
   "cell_type": "code",
   "execution_count": 5,
   "id": "5d6aeb04",
   "metadata": {},
   "outputs": [
    {
     "data": {
      "text/plain": [
       "array(['AUTOMOTIVE', 'BABY CARE', 'BEAUTY', 'BEVERAGES', 'BOOKS',\n",
       "       'BREAD/BAKERY', 'CELEBRATION', 'CLEANING', 'DAIRY', 'DELI', 'EGGS',\n",
       "       'FROZEN FOODS', 'GROCERY I', 'GROCERY II', 'HARDWARE',\n",
       "       'HOME AND KITCHEN I', 'HOME AND KITCHEN II', 'HOME APPLIANCES',\n",
       "       'HOME CARE', 'LADIESWEAR', 'LAWN AND GARDEN', 'LINGERIE',\n",
       "       'LIQUOR,WINE,BEER', 'MAGAZINES', 'MEATS', 'PERSONAL CARE',\n",
       "       'PET SUPPLIES', 'PLAYERS AND ELECTRONICS', 'POULTRY',\n",
       "       'PREPARED FOODS', 'PRODUCE', 'SCHOOL AND OFFICE SUPPLIES',\n",
       "       'SEAFOOD'], dtype=object)"
      ]
     },
     "execution_count": 5,
     "metadata": {},
     "output_type": "execute_result"
    }
   ],
   "source": [
    "# verificando as \"famílias\" de produtos\n",
    "products = df['family'].unique()\n",
    "products"
   ]
  },
  {
   "cell_type": "code",
   "execution_count": 6,
   "id": "c4771cfc",
   "metadata": {},
   "outputs": [
    {
     "name": "stdout",
     "output_type": "stream",
     "text": [
      "Existem 54 lojas na base de dados\n"
     ]
    }
   ],
   "source": [
    "# verificando a quantidade de lojas no dataset\n",
    "n_stores = len(df['store_nbr'].unique())\n",
    "\n",
    "print('Existem {} lojas na base de dados'.format(n_stores))"
   ]
  },
  {
   "cell_type": "markdown",
   "id": "e6c0294e",
   "metadata": {},
   "source": [
    "De forma aleatória, foram selecionados os produtos da família \"home care\" e da loja 41 para serem análisados nesse estudo inicial. "
   ]
  },
  {
   "cell_type": "code",
   "execution_count": 7,
   "id": "5361c3cb",
   "metadata": {},
   "outputs": [
    {
     "data": {
      "text/html": [
       "<div>\n",
       "<style scoped>\n",
       "    .dataframe tbody tr th:only-of-type {\n",
       "        vertical-align: middle;\n",
       "    }\n",
       "\n",
       "    .dataframe tbody tr th {\n",
       "        vertical-align: top;\n",
       "    }\n",
       "\n",
       "    .dataframe thead th {\n",
       "        text-align: right;\n",
       "    }\n",
       "</style>\n",
       "<table border=\"1\" class=\"dataframe\">\n",
       "  <thead>\n",
       "    <tr style=\"text-align: right;\">\n",
       "      <th></th>\n",
       "      <th>id</th>\n",
       "      <th>store_nbr</th>\n",
       "      <th>family</th>\n",
       "      <th>sales</th>\n",
       "      <th>onpromotion</th>\n",
       "    </tr>\n",
       "    <tr>\n",
       "      <th>date</th>\n",
       "      <th></th>\n",
       "      <th></th>\n",
       "      <th></th>\n",
       "      <th></th>\n",
       "      <th></th>\n",
       "    </tr>\n",
       "  </thead>\n",
       "  <tbody>\n",
       "    <tr>\n",
       "      <th>2013-01-01</th>\n",
       "      <td>1173</td>\n",
       "      <td>41</td>\n",
       "      <td>HOME CARE</td>\n",
       "      <td>0.0</td>\n",
       "      <td>0</td>\n",
       "    </tr>\n",
       "    <tr>\n",
       "      <th>2013-01-02</th>\n",
       "      <td>2955</td>\n",
       "      <td>41</td>\n",
       "      <td>HOME CARE</td>\n",
       "      <td>0.0</td>\n",
       "      <td>0</td>\n",
       "    </tr>\n",
       "    <tr>\n",
       "      <th>2013-01-03</th>\n",
       "      <td>4737</td>\n",
       "      <td>41</td>\n",
       "      <td>HOME CARE</td>\n",
       "      <td>0.0</td>\n",
       "      <td>0</td>\n",
       "    </tr>\n",
       "    <tr>\n",
       "      <th>2013-01-04</th>\n",
       "      <td>6519</td>\n",
       "      <td>41</td>\n",
       "      <td>HOME CARE</td>\n",
       "      <td>0.0</td>\n",
       "      <td>0</td>\n",
       "    </tr>\n",
       "    <tr>\n",
       "      <th>2013-01-05</th>\n",
       "      <td>8301</td>\n",
       "      <td>41</td>\n",
       "      <td>HOME CARE</td>\n",
       "      <td>0.0</td>\n",
       "      <td>0</td>\n",
       "    </tr>\n",
       "  </tbody>\n",
       "</table>\n",
       "</div>"
      ],
      "text/plain": [
       "              id  store_nbr     family  sales  onpromotion\n",
       "date                                                      \n",
       "2013-01-01  1173         41  HOME CARE    0.0            0\n",
       "2013-01-02  2955         41  HOME CARE    0.0            0\n",
       "2013-01-03  4737         41  HOME CARE    0.0            0\n",
       "2013-01-04  6519         41  HOME CARE    0.0            0\n",
       "2013-01-05  8301         41  HOME CARE    0.0            0"
      ]
     },
     "execution_count": 7,
     "metadata": {},
     "output_type": "execute_result"
    }
   ],
   "source": [
    "# criando um novo dataframe somente com os itens de cuidados com a casa da loja 41\n",
    "df41_hc = df[(df['family'] == 'HOME CARE') & (df['store_nbr'] == 41)]\n",
    "df41_hc.head()"
   ]
  },
  {
   "cell_type": "code",
   "execution_count": 8,
   "id": "2bcba3f6",
   "metadata": {},
   "outputs": [
    {
     "data": {
      "image/png": "[encoded data removed]",
      "text/plain": [
       "<Figure size 864x432 with 1 Axes>"
      ]
     },
     "metadata": {
      "needs_background": "light"
     },
     "output_type": "display_data"
    }
   ],
   "source": [
    "# plot da série temporal completa\n",
    "plt.figure(figsize = (12, 6))\n",
    "df41_hc['sales'].plot()\n",
    "plt.xlabel('')\n",
    "plt.ylabel('Vendas')\n",
    "plt.show()"
   ]
  },
  {
   "cell_type": "markdown",
   "id": "98389439",
   "metadata": {},
   "source": [
    "Existem diversos períodos com nenhuma venda de produto, que provalmente são períodos em que a loja esteve fechada ou existem problemas nos dados. As análises serão realizadas somente na parte mais recente da série, onde não existem peŕiodos longos sem venda. \n",
    "\n",
    "Um primeiro recorte é realizados abaixo na data de 2015-01-23."
   ]
  },
  {
   "cell_type": "code",
   "execution_count": 9,
   "id": "e2a97da9",
   "metadata": {},
   "outputs": [],
   "source": [
    "# seleciona somente a parte da série a partir do dia 2015-01-23\n",
    "df41_hc = df41_hc.loc[\"2015-01-23\":]"
   ]
  },
  {
   "cell_type": "code",
   "execution_count": 10,
   "id": "e205e149",
   "metadata": {},
   "outputs": [
    {
     "data": {
      "image/png": "[encoded data removed]",
      "text/plain": [
       "<Figure size 864x432 with 1 Axes>"
      ]
     },
     "metadata": {
      "needs_background": "light"
     },
     "output_type": "display_data"
    }
   ],
   "source": [
    "# novo plot da série temporal, agora a partir do dia 2015-01-23\n",
    "plt.figure(figsize = (12, 6))\n",
    "df41_hc['sales'].plot()\n",
    "plt.xlabel('')\n",
    "plt.ylabel('Vendas')\n",
    "plt.show()"
   ]
  },
  {
   "cell_type": "markdown",
   "id": "3216d00c",
   "metadata": {},
   "source": [
    "Uma parte da série sem vendas foi eliminada, mas ainda tem-se um período de vendas nulas. A seguir, o fim desse período é identificado e somente o período sem janelas nulas é selecionado."
   ]
  },
  {
   "cell_type": "code",
   "execution_count": 11,
   "id": "49905fb2",
   "metadata": {},
   "outputs": [],
   "source": [
    "# identifica a primeira data com vendas\n",
    "vendas = 0 \n",
    "idx = 0\n",
    "\n",
    "while vendas == 0:\n",
    "    vendas = df41_hc['sales'].iloc[idx]\n",
    "    date = df41_hc.index[idx]\n",
    "    idx += 1"
   ]
  },
  {
   "cell_type": "code",
   "execution_count": 12,
   "id": "a6ccff04",
   "metadata": {},
   "outputs": [
    {
     "name": "stdout",
     "output_type": "stream",
     "text": [
      "A partir do dia 2015-05-04 a série não apresenta mais janelas sem vendas.\n"
     ]
    }
   ],
   "source": [
    "print('A partir do dia {} a série não apresenta mais janelas sem vendas.'.format(date))"
   ]
  },
  {
   "cell_type": "code",
   "execution_count": 13,
   "id": "0f5e9bf1",
   "metadata": {},
   "outputs": [],
   "source": [
    "# seleciona somente a parte da série sem janelas sem vendas\n",
    "df41_hc = df41_hc.loc[date:]"
   ]
  },
  {
   "cell_type": "code",
   "execution_count": 14,
   "id": "a913c20c",
   "metadata": {},
   "outputs": [
    {
     "data": {
      "image/png": "[encoded data removed]",
      "text/plain": [
       "<Figure size 864x432 with 1 Axes>"
      ]
     },
     "metadata": {
      "needs_background": "light"
     },
     "output_type": "display_data"
    }
   ],
   "source": [
    "# novo plot a partir do dia 2015-05-04\n",
    "plt.figure(figsize = (12, 6))\n",
    "df41_hc['sales'].plot()\n",
    "plt.xlabel('')\n",
    "plt.ylabel('Vendas')\n",
    "plt.show()"
   ]
  },
  {
   "cell_type": "markdown",
   "id": "c4b94e4a",
   "metadata": {},
   "source": [
    "Existem ainda dois dias com vendas nulas. Será visto a seguir quais são esses dias."
   ]
  },
  {
   "cell_type": "code",
   "execution_count": 15,
   "id": "231ef21c",
   "metadata": {},
   "outputs": [
    {
     "data": {
      "text/plain": [
       "['2016-01-01', '2017-01-01']"
      ]
     },
     "execution_count": 15,
     "metadata": {},
     "output_type": "execute_result"
    }
   ],
   "source": [
    "# identifica os dias sem vendas\n",
    "zero = []\n",
    "for i in range(len(df41_hc['sales'])):\n",
    "    if df41_hc['sales'].iloc[i] == 0:\n",
    "        zero.append(df41_hc['sales'].index[i])\n",
    "        \n",
    "zero"
   ]
  },
  {
   "cell_type": "markdown",
   "id": "dd610efd",
   "metadata": {},
   "source": [
    "Os dias sem venda são os dias 1 de janeiro dos anos de 2016 e 2017, nos quais a loja muito provavelmente esteve fechada.\n",
    "\n",
    "Por fim, nota-se ainda que existe um dia com vendas muito acima dos valores usuais. Esse número pode ser um erro no cadastro ou, talvez, algum evento especial na loja. Aqui, ele será tratado como outlier e o seu valor será substituído pela média das vendas do dia anterior e do dia seguinte."
   ]
  },
  {
   "cell_type": "code",
   "execution_count": 16,
   "id": "acdf0ad9",
   "metadata": {},
   "outputs": [
    {
     "data": {
      "text/plain": [
       "['2016-12-07']"
      ]
     },
     "execution_count": 16,
     "metadata": {},
     "output_type": "execute_result"
    }
   ],
   "source": [
    "# identifica o dia com o alto valor nas vendas\n",
    "supersales = []\n",
    "for i in range(len(df41_hc['sales'])):\n",
    "    if df41_hc['sales'].iloc[i] > 1000:\n",
    "        supersales.append(df41_hc['sales'].index[i])\n",
    "        \n",
    "supersales"
   ]
  },
  {
   "cell_type": "code",
   "execution_count": 17,
   "id": "da4658c7",
   "metadata": {},
   "outputs": [
    {
     "name": "stdout",
     "output_type": "stream",
     "text": [
      "Somente no dia 2016-12-07 foram vendidos mais de 1000 itens.\n"
     ]
    }
   ],
   "source": [
    "print('Somente no dia {} foram vendidos mais de 1000 itens.'.format(supersales[0]))"
   ]
  },
  {
   "cell_type": "code",
   "execution_count": 18,
   "id": "f0ca31e0",
   "metadata": {},
   "outputs": [],
   "source": [
    "# substitui as vendas do dia fora do padrão usual pela média dos valores do dia anterior e seguinte\n",
    "df41_hc['sales'].loc['2016-12-07'] = (df41_hc['sales'].loc['2016-12-06'] + df41_hc['sales'].loc['2016-12-08'])/2 "
   ]
  },
  {
   "cell_type": "code",
   "execution_count": 19,
   "id": "b85d91e8",
   "metadata": {},
   "outputs": [
    {
     "data": {
      "text/plain": [
       "191.0"
      ]
     },
     "execution_count": 19,
     "metadata": {},
     "output_type": "execute_result"
    }
   ],
   "source": [
    "# novo valor para o dia 2016-12-07\n",
    "df41_hc['sales'].loc['2016-12-07']"
   ]
  },
  {
   "cell_type": "code",
   "execution_count": 20,
   "id": "8486d17c",
   "metadata": {},
   "outputs": [
    {
     "data": {
      "image/png": "[encoded data removed]",
      "text/plain": [
       "<Figure size 864x432 with 1 Axes>"
      ]
     },
     "metadata": {
      "needs_background": "light"
     },
     "output_type": "display_data"
    }
   ],
   "source": [
    "# plot da série temporal após o pré-tratamento\n",
    "plt.figure(figsize = (12, 6))\n",
    "ax = df41_hc['sales'].plot()\n",
    "ax.set_xlim(np.array([35, -35])+ax.get_xlim())\n",
    "plt.xlabel('')\n",
    "plt.ylabel('Vendas')\n",
    "plt.show()"
   ]
  },
  {
   "cell_type": "code",
   "execution_count": 21,
   "id": "33b2c42a",
   "metadata": {},
   "outputs": [
    {
     "name": "stdout",
     "output_type": "stream",
     "text": [
      "A série que será analisada vai de 2015-05-04 a 2017-08-15 e contém 833 registros.\n"
     ]
    }
   ],
   "source": [
    "print('A série que será analisada vai de {} a {} e contém {} registros.'.format(df41_hc.index[0], df41_hc.index[-1], df41_hc.shape[0]))"
   ]
  },
  {
   "cell_type": "markdown",
   "id": "d0f8099c",
   "metadata": {},
   "source": [
    "## As funções de autocorrelação e autocorrelação parcial"
   ]
  },
  {
   "cell_type": "code",
   "execution_count": 22,
   "id": "f188712a",
   "metadata": {},
   "outputs": [],
   "source": [
    "# importa o pacote statsmodels para calcular e visualizar as funções de autocorrelação\n",
    "import statsmodels.api as sm\n",
    "import statsmodels"
   ]
  },
  {
   "cell_type": "markdown",
   "id": "764fe260",
   "metadata": {},
   "source": [
    "A função de autocorrelação (ou, do inglês, acf) calcula a correlação dos dados com os próprios dados da série em períodos anteriores. \n",
    "\n",
    "Na imagem abaixo, o pacote statsmodels é utilizado para vizualizar a acf da série. Nesse caso, foi escolhida a opção de mostrar as correlações para um período de até 40 dias. \n",
    "\n",
    "Na imagem, observa-se a correlação trivial com o período anterior (\"lag\") de zero dias, que é obviamente igual a 1. Ou seja, o coeficiente de correlação das vendas de um dia com esse mesmo dia é igual a 1, como esperado.   \n",
    "\n",
    "Existem correlações positivas com \"lags\" de 1, 6, 7, 8, 13, 14, 15, 20, 21, 22 ... dias. E correlações negativas ocorrem nos \"lags\" de 2, 3, 4, 5, 9, 10, 11, 12, ... dias. Nota-se uma forte correlação com as vendas de 7 dias atrás, indicando uma forte dependência nas vendas com o dia da semana. Essa dependência com o dia da semana ainda é responsável pelo padrão periódico observado. \n",
    "\n",
    "Para selecionar somente os \"lags\" principais dentro desse padrão periódico é utilizada a função de autocorrelação parcial (que muitas vezes é escrita pela sigla em inglês pacf). Mais abaixo o pacote statsmodels é novamente utilizado para produzir o gráfico da pacf da série. Na figura fica bastante claro a atenuação dos valores da correlação conforme avança-se no padrão repetitivo.   "
   ]
  },
  {
   "cell_type": "code",
   "execution_count": 23,
   "id": "bd8bd8d7",
   "metadata": {},
   "outputs": [
    {
     "data": {
      "image/png": "[encoded data removed]",
      "text/plain": [
       "<Figure size 720x504 with 1 Axes>"
      ]
     },
     "metadata": {
      "needs_background": "light"
     },
     "output_type": "display_data"
    }
   ],
   "source": [
    "# plot da função de autocorrelção \n",
    "plt.rc(\"figure\", figsize=(10,7))\n",
    "sm.graphics.tsa.plot_acf(df41_hc['sales'], lags=40)\n",
    "plt.xlabel('Lag (Dias)')\n",
    "plt.title('Função de Autocorrelação \\n', size=20)\n",
    "plt.show()"
   ]
  },
  {
   "cell_type": "code",
   "execution_count": 113,
   "id": "3b0dc753",
   "metadata": {},
   "outputs": [
    {
     "data": {
      "image/png": "[encoded data removed]",
      "text/plain": [
       "<Figure size 720x504 with 1 Axes>"
      ]
     },
     "metadata": {
      "needs_background": "light"
     },
     "output_type": "display_data"
    }
   ],
   "source": [
    "# plot da função de autocorrelação parcial\n",
    "plt.rc(\"figure\", figsize=(10,7))\n",
    "sm.graphics.tsa.plot_pacf(df41_hc['sales'], lags=40, method = \"ywm\")\n",
    "plt.hlines(0.2, 0, 40, color = 'gray', linestyle = '--')\n",
    "plt.hlines(-0.2, 0, 40, color = 'gray', linestyle = '--')\n",
    "plt.title('Função de Autocorrelação Parcial \\n', size = 20)\n",
    "plt.xlabel('Lag (Dias)')\n",
    "plt.xlim(-0.5, 40)\n",
    "plt.show()"
   ]
  },
  {
   "cell_type": "markdown",
   "id": "508b6766",
   "metadata": {},
   "source": [
    "Os \"lags\" principais, que serão utilizados no modelo de Machine Learning, são selecionados como aqueles com valor absoluto de autocorrelação maior do que 0.2. Na figura acima a linha cinza horizontal indica esse limiar.  "
   ]
  },
  {
   "cell_type": "code",
   "execution_count": 114,
   "id": "9cc5d72f",
   "metadata": {},
   "outputs": [
    {
     "data": {
      "text/plain": [
       "array([ 1.        ,  0.36339423, -0.27764486, -0.03788827, -0.15262446,\n",
       "       -0.03393817,  0.38788363,  0.50829614, -0.10571845, -0.09499421,\n",
       "       -0.07741592, -0.0571428 , -0.06637366,  0.09371952,  0.31182502,\n",
       "       -0.00916101, -0.06395787, -0.00800268, -0.02519255, -0.06071564,\n",
       "        0.03946073,  0.16530507, -0.04312689, -0.05646253, -0.01567438,\n",
       "        0.01680752,  0.01885416,  0.11422647,  0.18523266,  0.01214841,\n",
       "        0.06261502,  0.07632448,  0.01555562,  0.01906066, -0.02838614,\n",
       "       -0.00438055, -0.12361567, -0.0382009 , -0.07065498, -0.01453461,\n",
       "       -0.0085616 ])"
      ]
     },
     "execution_count": 114,
     "metadata": {},
     "output_type": "execute_result"
    }
   ],
   "source": [
    "# calcula a função de autocorrelação parcial\n",
    "pacf = statsmodels.tsa.stattools.pacf(df41_hc['sales'], nlags=40, method = \"ywm\")\n",
    "pacf"
   ]
  },
  {
   "cell_type": "markdown",
   "id": "72e6b180",
   "metadata": {},
   "source": [
    "## Construindo o dataframe para a aplicação das técnicas de Machine Learning\n",
    "\n",
    "### Incluindo os \"lags\" principais como \"features\""
   ]
  },
  {
   "cell_type": "markdown",
   "id": "472cb990",
   "metadata": {},
   "source": [
    "O ponto central da técnica de Machine Learning para a análise de Séries Temporais que será utilizada aqui consiste em transformar os atrasos (\"lags\") principais em \"features\" para o aprendizado. \n",
    "\n",
    "Portanto, inicialmente esses atrasos principais serão identificados."
   ]
  },
  {
   "cell_type": "code",
   "execution_count": 115,
   "id": "2acf8526",
   "metadata": {},
   "outputs": [
    {
     "data": {
      "text/plain": [
       "[1, 2, 6, 7, 14]"
      ]
     },
     "execution_count": 115,
     "metadata": {},
     "output_type": "execute_result"
    }
   ],
   "source": [
    "# identifica as lags nas quais o coeficiente de correlação é maior do que o limiar 0.2\n",
    "lags = []\n",
    "\n",
    "for i in range(1, len(pacf)):\n",
    "    if abs(pacf[i]) > 0.2:\n",
    "        lags.append(i)\n",
    "\n",
    "# lista com as lags principais        \n",
    "lags"
   ]
  },
  {
   "cell_type": "markdown",
   "id": "39a49697",
   "metadata": {},
   "source": [
    "Têm-se dessa forma 5 valores de atraso que serão utilizados nos modelos. Ou seja, as vendas em um determinado dia terão como variáveis os valores de venda a 1, 2, 6, 7, e 14 dias atrás."
   ]
  },
  {
   "cell_type": "code",
   "execution_count": 116,
   "id": "b55721e6",
   "metadata": {},
   "outputs": [],
   "source": [
    "# cria um dataframe com as quantidades vendidas nos dias anteriores correspondentes aos \"lags\" principais  \n",
    "def lag_features_frame(data):\n",
    "    '''\n",
    "        Recebe o dataframe \"data\" com a série temporal original e retorna\n",
    "        um novo dataframe com as vendas nos dias anteriores correspondentes\n",
    "        aos \"lags\" principais\n",
    "    \n",
    "    '''\n",
    "    \n",
    "    lag_features = pd.DataFrame()\n",
    "\n",
    "    for l in lags:\n",
    "        lag_features['lag' + str(l)] = data.shift(l)['sales']\n",
    "\n",
    "    return lag_features.iloc[max(lags):]"
   ]
  },
  {
   "cell_type": "code",
   "execution_count": 117,
   "id": "8eed51e9",
   "metadata": {},
   "outputs": [
    {
     "data": {
      "text/html": [
       "<div>\n",
       "<style scoped>\n",
       "    .dataframe tbody tr th:only-of-type {\n",
       "        vertical-align: middle;\n",
       "    }\n",
       "\n",
       "    .dataframe tbody tr th {\n",
       "        vertical-align: top;\n",
       "    }\n",
       "\n",
       "    .dataframe thead th {\n",
       "        text-align: right;\n",
       "    }\n",
       "</style>\n",
       "<table border=\"1\" class=\"dataframe\">\n",
       "  <thead>\n",
       "    <tr style=\"text-align: right;\">\n",
       "      <th></th>\n",
       "      <th>lag1</th>\n",
       "      <th>lag2</th>\n",
       "      <th>lag6</th>\n",
       "      <th>lag7</th>\n",
       "      <th>lag14</th>\n",
       "    </tr>\n",
       "    <tr>\n",
       "      <th>date</th>\n",
       "      <th></th>\n",
       "      <th></th>\n",
       "      <th></th>\n",
       "      <th></th>\n",
       "      <th></th>\n",
       "    </tr>\n",
       "  </thead>\n",
       "  <tbody>\n",
       "    <tr>\n",
       "      <th>2015-05-18</th>\n",
       "      <td>390.0</td>\n",
       "      <td>308.0</td>\n",
       "      <td>165.0</td>\n",
       "      <td>227.0</td>\n",
       "      <td>250.0</td>\n",
       "    </tr>\n",
       "    <tr>\n",
       "      <th>2015-05-19</th>\n",
       "      <td>245.0</td>\n",
       "      <td>390.0</td>\n",
       "      <td>190.0</td>\n",
       "      <td>165.0</td>\n",
       "      <td>215.0</td>\n",
       "    </tr>\n",
       "    <tr>\n",
       "      <th>2015-05-20</th>\n",
       "      <td>164.0</td>\n",
       "      <td>245.0</td>\n",
       "      <td>155.0</td>\n",
       "      <td>190.0</td>\n",
       "      <td>203.0</td>\n",
       "    </tr>\n",
       "    <tr>\n",
       "      <th>2015-05-21</th>\n",
       "      <td>208.0</td>\n",
       "      <td>164.0</td>\n",
       "      <td>206.0</td>\n",
       "      <td>155.0</td>\n",
       "      <td>170.0</td>\n",
       "    </tr>\n",
       "    <tr>\n",
       "      <th>2015-05-22</th>\n",
       "      <td>130.0</td>\n",
       "      <td>208.0</td>\n",
       "      <td>308.0</td>\n",
       "      <td>206.0</td>\n",
       "      <td>206.0</td>\n",
       "    </tr>\n",
       "  </tbody>\n",
       "</table>\n",
       "</div>"
      ],
      "text/plain": [
       "             lag1   lag2   lag6   lag7  lag14\n",
       "date                                         \n",
       "2015-05-18  390.0  308.0  165.0  227.0  250.0\n",
       "2015-05-19  245.0  390.0  190.0  165.0  215.0\n",
       "2015-05-20  164.0  245.0  155.0  190.0  203.0\n",
       "2015-05-21  208.0  164.0  206.0  155.0  170.0\n",
       "2015-05-22  130.0  208.0  308.0  206.0  206.0"
      ]
     },
     "execution_count": 117,
     "metadata": {},
     "output_type": "execute_result"
    }
   ],
   "source": [
    "# chama a função lag_features_frame no dataframe da série temporal de interesse e cria a primeira parte\n",
    "# do dataframe \"df_forecast\" que será utilizado no aprendizado de máquina\n",
    "df_forecast = lag_features_frame(df41_hc)\n",
    "df_forecast.head()"
   ]
  },
  {
   "cell_type": "markdown",
   "id": "7489146f",
   "metadata": {},
   "source": [
    "### Incluindo o número de itens em promoção \n",
    "\n",
    "A coluna \"onpromotion\" indica o número de itens em promoção de uma família de produtos. Essa variável é incluída no dataframe \"df_forecast\""
   ]
  },
  {
   "cell_type": "code",
   "execution_count": 118,
   "id": "3487f66b",
   "metadata": {},
   "outputs": [
    {
     "data": {
      "text/html": [
       "<div>\n",
       "<style scoped>\n",
       "    .dataframe tbody tr th:only-of-type {\n",
       "        vertical-align: middle;\n",
       "    }\n",
       "\n",
       "    .dataframe tbody tr th {\n",
       "        vertical-align: top;\n",
       "    }\n",
       "\n",
       "    .dataframe thead th {\n",
       "        text-align: right;\n",
       "    }\n",
       "</style>\n",
       "<table border=\"1\" class=\"dataframe\">\n",
       "  <thead>\n",
       "    <tr style=\"text-align: right;\">\n",
       "      <th></th>\n",
       "      <th>lag1</th>\n",
       "      <th>lag2</th>\n",
       "      <th>lag6</th>\n",
       "      <th>lag7</th>\n",
       "      <th>lag14</th>\n",
       "      <th>onpromotion</th>\n",
       "    </tr>\n",
       "    <tr>\n",
       "      <th>date</th>\n",
       "      <th></th>\n",
       "      <th></th>\n",
       "      <th></th>\n",
       "      <th></th>\n",
       "      <th></th>\n",
       "      <th></th>\n",
       "    </tr>\n",
       "  </thead>\n",
       "  <tbody>\n",
       "    <tr>\n",
       "      <th>2015-05-18</th>\n",
       "      <td>390.0</td>\n",
       "      <td>308.0</td>\n",
       "      <td>165.0</td>\n",
       "      <td>227.0</td>\n",
       "      <td>250.0</td>\n",
       "      <td>1</td>\n",
       "    </tr>\n",
       "    <tr>\n",
       "      <th>2015-05-19</th>\n",
       "      <td>245.0</td>\n",
       "      <td>390.0</td>\n",
       "      <td>190.0</td>\n",
       "      <td>165.0</td>\n",
       "      <td>215.0</td>\n",
       "      <td>1</td>\n",
       "    </tr>\n",
       "    <tr>\n",
       "      <th>2015-05-20</th>\n",
       "      <td>164.0</td>\n",
       "      <td>245.0</td>\n",
       "      <td>155.0</td>\n",
       "      <td>190.0</td>\n",
       "      <td>203.0</td>\n",
       "      <td>0</td>\n",
       "    </tr>\n",
       "    <tr>\n",
       "      <th>2015-05-21</th>\n",
       "      <td>208.0</td>\n",
       "      <td>164.0</td>\n",
       "      <td>206.0</td>\n",
       "      <td>155.0</td>\n",
       "      <td>170.0</td>\n",
       "      <td>2</td>\n",
       "    </tr>\n",
       "    <tr>\n",
       "      <th>2015-05-22</th>\n",
       "      <td>130.0</td>\n",
       "      <td>208.0</td>\n",
       "      <td>308.0</td>\n",
       "      <td>206.0</td>\n",
       "      <td>206.0</td>\n",
       "      <td>1</td>\n",
       "    </tr>\n",
       "  </tbody>\n",
       "</table>\n",
       "</div>"
      ],
      "text/plain": [
       "             lag1   lag2   lag6   lag7  lag14  onpromotion\n",
       "date                                                      \n",
       "2015-05-18  390.0  308.0  165.0  227.0  250.0            1\n",
       "2015-05-19  245.0  390.0  190.0  165.0  215.0            1\n",
       "2015-05-20  164.0  245.0  155.0  190.0  203.0            0\n",
       "2015-05-21  208.0  164.0  206.0  155.0  170.0            2\n",
       "2015-05-22  130.0  208.0  308.0  206.0  206.0            1"
      ]
     },
     "execution_count": 118,
     "metadata": {},
     "output_type": "execute_result"
    }
   ],
   "source": [
    "# cria a coluna \"onpromotion\" no dataframe \"df_forecast\"\n",
    "df_forecast['onpromotion'] = df41_hc['onpromotion'].copy()\n",
    "df_forecast.head()"
   ]
  },
  {
   "cell_type": "markdown",
   "id": "5c00ce6e",
   "metadata": {},
   "source": [
    "### Incluindo o preço do petróleo\n",
    "\n",
    "É disponibilizado na fonte dos dados os dados dos valores do petróleo no período correspondente."
   ]
  },
  {
   "cell_type": "code",
   "execution_count": 119,
   "id": "f6d4da35",
   "metadata": {},
   "outputs": [
    {
     "data": {
      "text/html": [
       "<div>\n",
       "<style scoped>\n",
       "    .dataframe tbody tr th:only-of-type {\n",
       "        vertical-align: middle;\n",
       "    }\n",
       "\n",
       "    .dataframe tbody tr th {\n",
       "        vertical-align: top;\n",
       "    }\n",
       "\n",
       "    .dataframe thead th {\n",
       "        text-align: right;\n",
       "    }\n",
       "</style>\n",
       "<table border=\"1\" class=\"dataframe\">\n",
       "  <thead>\n",
       "    <tr style=\"text-align: right;\">\n",
       "      <th></th>\n",
       "      <th>dcoilwtico</th>\n",
       "    </tr>\n",
       "    <tr>\n",
       "      <th>date</th>\n",
       "      <th></th>\n",
       "    </tr>\n",
       "  </thead>\n",
       "  <tbody>\n",
       "    <tr>\n",
       "      <th>2013-01-01</th>\n",
       "      <td>NaN</td>\n",
       "    </tr>\n",
       "    <tr>\n",
       "      <th>2013-01-02</th>\n",
       "      <td>93.14</td>\n",
       "    </tr>\n",
       "    <tr>\n",
       "      <th>2013-01-03</th>\n",
       "      <td>92.97</td>\n",
       "    </tr>\n",
       "    <tr>\n",
       "      <th>2013-01-04</th>\n",
       "      <td>93.12</td>\n",
       "    </tr>\n",
       "    <tr>\n",
       "      <th>2013-01-07</th>\n",
       "      <td>93.20</td>\n",
       "    </tr>\n",
       "  </tbody>\n",
       "</table>\n",
       "</div>"
      ],
      "text/plain": [
       "            dcoilwtico\n",
       "date                  \n",
       "2013-01-01         NaN\n",
       "2013-01-02       93.14\n",
       "2013-01-03       92.97\n",
       "2013-01-04       93.12\n",
       "2013-01-07       93.20"
      ]
     },
     "execution_count": 119,
     "metadata": {},
     "output_type": "execute_result"
    }
   ],
   "source": [
    "# carrega os dados do preço do petróleo\n",
    "oil = pd.read_csv('oil.csv', index_col = ['date'])\n",
    "oil.head()"
   ]
  },
  {
   "cell_type": "code",
   "execution_count": 120,
   "id": "1a9279c3",
   "metadata": {},
   "outputs": [
    {
     "data": {
      "text/html": [
       "<div>\n",
       "<style scoped>\n",
       "    .dataframe tbody tr th:only-of-type {\n",
       "        vertical-align: middle;\n",
       "    }\n",
       "\n",
       "    .dataframe tbody tr th {\n",
       "        vertical-align: top;\n",
       "    }\n",
       "\n",
       "    .dataframe thead th {\n",
       "        text-align: right;\n",
       "    }\n",
       "</style>\n",
       "<table border=\"1\" class=\"dataframe\">\n",
       "  <thead>\n",
       "    <tr style=\"text-align: right;\">\n",
       "      <th></th>\n",
       "      <th>lag1</th>\n",
       "      <th>lag2</th>\n",
       "      <th>lag6</th>\n",
       "      <th>lag7</th>\n",
       "      <th>lag14</th>\n",
       "      <th>onpromotion</th>\n",
       "      <th>oil</th>\n",
       "    </tr>\n",
       "    <tr>\n",
       "      <th>date</th>\n",
       "      <th></th>\n",
       "      <th></th>\n",
       "      <th></th>\n",
       "      <th></th>\n",
       "      <th></th>\n",
       "      <th></th>\n",
       "      <th></th>\n",
       "    </tr>\n",
       "  </thead>\n",
       "  <tbody>\n",
       "    <tr>\n",
       "      <th>2015-05-18</th>\n",
       "      <td>390.0</td>\n",
       "      <td>308.0</td>\n",
       "      <td>165.0</td>\n",
       "      <td>227.0</td>\n",
       "      <td>250.0</td>\n",
       "      <td>1</td>\n",
       "      <td>59.44</td>\n",
       "    </tr>\n",
       "    <tr>\n",
       "      <th>2015-05-19</th>\n",
       "      <td>245.0</td>\n",
       "      <td>390.0</td>\n",
       "      <td>190.0</td>\n",
       "      <td>165.0</td>\n",
       "      <td>215.0</td>\n",
       "      <td>1</td>\n",
       "      <td>57.30</td>\n",
       "    </tr>\n",
       "    <tr>\n",
       "      <th>2015-05-20</th>\n",
       "      <td>164.0</td>\n",
       "      <td>245.0</td>\n",
       "      <td>155.0</td>\n",
       "      <td>190.0</td>\n",
       "      <td>203.0</td>\n",
       "      <td>0</td>\n",
       "      <td>58.96</td>\n",
       "    </tr>\n",
       "    <tr>\n",
       "      <th>2015-05-21</th>\n",
       "      <td>208.0</td>\n",
       "      <td>164.0</td>\n",
       "      <td>206.0</td>\n",
       "      <td>155.0</td>\n",
       "      <td>170.0</td>\n",
       "      <td>2</td>\n",
       "      <td>60.18</td>\n",
       "    </tr>\n",
       "    <tr>\n",
       "      <th>2015-05-22</th>\n",
       "      <td>130.0</td>\n",
       "      <td>208.0</td>\n",
       "      <td>308.0</td>\n",
       "      <td>206.0</td>\n",
       "      <td>206.0</td>\n",
       "      <td>1</td>\n",
       "      <td>58.88</td>\n",
       "    </tr>\n",
       "  </tbody>\n",
       "</table>\n",
       "</div>"
      ],
      "text/plain": [
       "             lag1   lag2   lag6   lag7  lag14  onpromotion    oil\n",
       "date                                                             \n",
       "2015-05-18  390.0  308.0  165.0  227.0  250.0            1  59.44\n",
       "2015-05-19  245.0  390.0  190.0  165.0  215.0            1  57.30\n",
       "2015-05-20  164.0  245.0  155.0  190.0  203.0            0  58.96\n",
       "2015-05-21  208.0  164.0  206.0  155.0  170.0            2  60.18\n",
       "2015-05-22  130.0  208.0  308.0  206.0  206.0            1  58.88"
      ]
     },
     "execution_count": 120,
     "metadata": {},
     "output_type": "execute_result"
    }
   ],
   "source": [
    "# cria uma nova coluna no dataframe \"df_forecast\" com o valor do petróleo. \n",
    "df_forecast['oil'] = oil['dcoilwtico']\n",
    "df_forecast.head()"
   ]
  },
  {
   "cell_type": "markdown",
   "id": "1cfa6de4",
   "metadata": {},
   "source": [
    "### Incluindo os feriados"
   ]
  },
  {
   "cell_type": "code",
   "execution_count": 121,
   "id": "874ba23c",
   "metadata": {},
   "outputs": [
    {
     "data": {
      "text/html": [
       "<div>\n",
       "<style scoped>\n",
       "    .dataframe tbody tr th:only-of-type {\n",
       "        vertical-align: middle;\n",
       "    }\n",
       "\n",
       "    .dataframe tbody tr th {\n",
       "        vertical-align: top;\n",
       "    }\n",
       "\n",
       "    .dataframe thead th {\n",
       "        text-align: right;\n",
       "    }\n",
       "</style>\n",
       "<table border=\"1\" class=\"dataframe\">\n",
       "  <thead>\n",
       "    <tr style=\"text-align: right;\">\n",
       "      <th></th>\n",
       "      <th>type</th>\n",
       "      <th>locale</th>\n",
       "      <th>locale_name</th>\n",
       "      <th>description</th>\n",
       "      <th>transferred</th>\n",
       "    </tr>\n",
       "    <tr>\n",
       "      <th>date</th>\n",
       "      <th></th>\n",
       "      <th></th>\n",
       "      <th></th>\n",
       "      <th></th>\n",
       "      <th></th>\n",
       "    </tr>\n",
       "  </thead>\n",
       "  <tbody>\n",
       "    <tr>\n",
       "      <th>2012-03-02</th>\n",
       "      <td>Holiday</td>\n",
       "      <td>Local</td>\n",
       "      <td>Manta</td>\n",
       "      <td>Fundacion de Manta</td>\n",
       "      <td>False</td>\n",
       "    </tr>\n",
       "    <tr>\n",
       "      <th>2012-04-01</th>\n",
       "      <td>Holiday</td>\n",
       "      <td>Regional</td>\n",
       "      <td>Cotopaxi</td>\n",
       "      <td>Provincializacion de Cotopaxi</td>\n",
       "      <td>False</td>\n",
       "    </tr>\n",
       "    <tr>\n",
       "      <th>2012-04-12</th>\n",
       "      <td>Holiday</td>\n",
       "      <td>Local</td>\n",
       "      <td>Cuenca</td>\n",
       "      <td>Fundacion de Cuenca</td>\n",
       "      <td>False</td>\n",
       "    </tr>\n",
       "    <tr>\n",
       "      <th>2012-04-14</th>\n",
       "      <td>Holiday</td>\n",
       "      <td>Local</td>\n",
       "      <td>Libertad</td>\n",
       "      <td>Cantonizacion de Libertad</td>\n",
       "      <td>False</td>\n",
       "    </tr>\n",
       "    <tr>\n",
       "      <th>2012-04-21</th>\n",
       "      <td>Holiday</td>\n",
       "      <td>Local</td>\n",
       "      <td>Riobamba</td>\n",
       "      <td>Cantonizacion de Riobamba</td>\n",
       "      <td>False</td>\n",
       "    </tr>\n",
       "  </tbody>\n",
       "</table>\n",
       "</div>"
      ],
      "text/plain": [
       "               type    locale locale_name                    description  \\\n",
       "date                                                                       \n",
       "2012-03-02  Holiday     Local       Manta             Fundacion de Manta   \n",
       "2012-04-01  Holiday  Regional    Cotopaxi  Provincializacion de Cotopaxi   \n",
       "2012-04-12  Holiday     Local      Cuenca            Fundacion de Cuenca   \n",
       "2012-04-14  Holiday     Local    Libertad      Cantonizacion de Libertad   \n",
       "2012-04-21  Holiday     Local    Riobamba      Cantonizacion de Riobamba   \n",
       "\n",
       "            transferred  \n",
       "date                     \n",
       "2012-03-02        False  \n",
       "2012-04-01        False  \n",
       "2012-04-12        False  \n",
       "2012-04-14        False  \n",
       "2012-04-21        False  "
      ]
     },
     "execution_count": 121,
     "metadata": {},
     "output_type": "execute_result"
    }
   ],
   "source": [
    "# carrega o dataframe com os feriados do Equador, que é disponibilizado no Kaggle\n",
    "holiday = pd.read_csv('holidays_events.csv', index_col = ['date'])\n",
    "holiday.head()"
   ]
  },
  {
   "cell_type": "markdown",
   "id": "33843ade",
   "metadata": {},
   "source": [
    "Na lista de feriados existem diversos feriados locais e, uma vez que a análise está sendo feita para somente uma das lojas da rede, somente os feriados nacionais foram considerados. Há também feriados que foram transferidos e celebrados em outras datas. Esses feriados não foram considerados nas análises."
   ]
  },
  {
   "cell_type": "code",
   "execution_count": 122,
   "id": "91368e24",
   "metadata": {},
   "outputs": [],
   "source": [
    "# mantém no dataframe \"holiday\" somente os feriados nacionais que não tiveram o dia da celebração transferido\n",
    "holiday = holiday[(holiday['locale'] == 'National') & (holiday['transferred'] == False)]"
   ]
  },
  {
   "cell_type": "code",
   "execution_count": 123,
   "id": "9bee1109",
   "metadata": {},
   "outputs": [],
   "source": [
    "def is_holiday(date):\n",
    "    '''\n",
    "    Recebe uma data e retorna 1 se a data é um feriado e 0 caso contrário\n",
    "    \n",
    "    :param date: data no formato de string\n",
    "    '''\n",
    "    days = holiday.index\n",
    "    if date in days:\n",
    "        return 1\n",
    "    else:\n",
    "        return 0    "
   ]
  },
  {
   "cell_type": "code",
   "execution_count": 124,
   "id": "70aca69f",
   "metadata": {},
   "outputs": [
    {
     "data": {
      "text/plain": [
       "date\n",
       "2015-05-18    0\n",
       "2015-05-19    0\n",
       "2015-05-20    0\n",
       "2015-05-21    0\n",
       "2015-05-22    0\n",
       "             ..\n",
       "2017-08-11    1\n",
       "2017-08-12    0\n",
       "2017-08-13    0\n",
       "2017-08-14    0\n",
       "2017-08-15    0\n",
       "Name: date, Length: 819, dtype: int64"
      ]
     },
     "execution_count": 124,
     "metadata": {},
     "output_type": "execute_result"
    }
   ],
   "source": [
    "# aplica a função \"is_holiday\" nas datas do dataframe \"df_forecast\"\n",
    "is_hol = pd.Series(df_forecast.index).apply(is_holiday)\n",
    "is_hol.index = df_forecast.index\n",
    "is_hol"
   ]
  },
  {
   "cell_type": "code",
   "execution_count": 125,
   "id": "d88e15d3",
   "metadata": {},
   "outputs": [
    {
     "data": {
      "text/html": [
       "<div>\n",
       "<style scoped>\n",
       "    .dataframe tbody tr th:only-of-type {\n",
       "        vertical-align: middle;\n",
       "    }\n",
       "\n",
       "    .dataframe tbody tr th {\n",
       "        vertical-align: top;\n",
       "    }\n",
       "\n",
       "    .dataframe thead th {\n",
       "        text-align: right;\n",
       "    }\n",
       "</style>\n",
       "<table border=\"1\" class=\"dataframe\">\n",
       "  <thead>\n",
       "    <tr style=\"text-align: right;\">\n",
       "      <th></th>\n",
       "      <th>lag1</th>\n",
       "      <th>lag2</th>\n",
       "      <th>lag6</th>\n",
       "      <th>lag7</th>\n",
       "      <th>lag14</th>\n",
       "      <th>onpromotion</th>\n",
       "      <th>oil</th>\n",
       "      <th>holiday</th>\n",
       "    </tr>\n",
       "    <tr>\n",
       "      <th>date</th>\n",
       "      <th></th>\n",
       "      <th></th>\n",
       "      <th></th>\n",
       "      <th></th>\n",
       "      <th></th>\n",
       "      <th></th>\n",
       "      <th></th>\n",
       "      <th></th>\n",
       "    </tr>\n",
       "  </thead>\n",
       "  <tbody>\n",
       "    <tr>\n",
       "      <th>2015-05-18</th>\n",
       "      <td>390.0</td>\n",
       "      <td>308.0</td>\n",
       "      <td>165.0</td>\n",
       "      <td>227.0</td>\n",
       "      <td>250.0</td>\n",
       "      <td>1</td>\n",
       "      <td>59.44</td>\n",
       "      <td>0</td>\n",
       "    </tr>\n",
       "    <tr>\n",
       "      <th>2015-05-19</th>\n",
       "      <td>245.0</td>\n",
       "      <td>390.0</td>\n",
       "      <td>190.0</td>\n",
       "      <td>165.0</td>\n",
       "      <td>215.0</td>\n",
       "      <td>1</td>\n",
       "      <td>57.30</td>\n",
       "      <td>0</td>\n",
       "    </tr>\n",
       "    <tr>\n",
       "      <th>2015-05-20</th>\n",
       "      <td>164.0</td>\n",
       "      <td>245.0</td>\n",
       "      <td>155.0</td>\n",
       "      <td>190.0</td>\n",
       "      <td>203.0</td>\n",
       "      <td>0</td>\n",
       "      <td>58.96</td>\n",
       "      <td>0</td>\n",
       "    </tr>\n",
       "    <tr>\n",
       "      <th>2015-05-21</th>\n",
       "      <td>208.0</td>\n",
       "      <td>164.0</td>\n",
       "      <td>206.0</td>\n",
       "      <td>155.0</td>\n",
       "      <td>170.0</td>\n",
       "      <td>2</td>\n",
       "      <td>60.18</td>\n",
       "      <td>0</td>\n",
       "    </tr>\n",
       "    <tr>\n",
       "      <th>2015-05-22</th>\n",
       "      <td>130.0</td>\n",
       "      <td>208.0</td>\n",
       "      <td>308.0</td>\n",
       "      <td>206.0</td>\n",
       "      <td>206.0</td>\n",
       "      <td>1</td>\n",
       "      <td>58.88</td>\n",
       "      <td>0</td>\n",
       "    </tr>\n",
       "  </tbody>\n",
       "</table>\n",
       "</div>"
      ],
      "text/plain": [
       "             lag1   lag2   lag6   lag7  lag14  onpromotion    oil  holiday\n",
       "date                                                                      \n",
       "2015-05-18  390.0  308.0  165.0  227.0  250.0            1  59.44        0\n",
       "2015-05-19  245.0  390.0  190.0  165.0  215.0            1  57.30        0\n",
       "2015-05-20  164.0  245.0  155.0  190.0  203.0            0  58.96        0\n",
       "2015-05-21  208.0  164.0  206.0  155.0  170.0            2  60.18        0\n",
       "2015-05-22  130.0  208.0  308.0  206.0  206.0            1  58.88        0"
      ]
     },
     "execution_count": 125,
     "metadata": {},
     "output_type": "execute_result"
    }
   ],
   "source": [
    "# inclui no dataframe \"df_forecast\" a coluna 'holiday', que indica se o dia é um feriado ou não\n",
    "df_forecast['holiday'] = is_hol\n",
    "df_forecast.head()"
   ]
  },
  {
   "cell_type": "markdown",
   "id": "54a74155",
   "metadata": {},
   "source": [
    "### Incluindo as datas de pagamento do setor público\n",
    "\n",
    "Os pagamentos no setor público do Equador ocorrem a cada duas semanas. Um pagamento é realizado no dia 15 e o outro é realizado no último dia do mês. Acredita-se que esse fator pode afetar as vendas e ele é, portanto, incluído nas análises.\n",
    "\n",
    "Ao invés de criar uma variável que simplesmente indica se a data é dia de pagamento ou não, aqui os dias de pagamento serão considerados através de uma variável que informa os dias corridos desde o pagamento. Espera-se que quanto mais próximo do pagamento maiores as vendas e conforme a pagamento fica mais distante o seu efeito nas vendas decai gradualmente."
   ]
  },
  {
   "cell_type": "code",
   "execution_count": 126,
   "id": "ddf8906a",
   "metadata": {},
   "outputs": [],
   "source": [
    "def days_from_payment(dates):\n",
    "    '''\n",
    "    Recebe datas dentro de um período e retorna uma lista com a distância\n",
    "    em dias de cada data aos dias de pagamento\n",
    "    '''\n",
    "    days = []\n",
    "    for i in range(len(dates) - 1):\n",
    "        # seleciona somente o dia a partir da string com a data\n",
    "        date = float(dates[i][-2:]) \n",
    "        if date < 15:\n",
    "            days.append(date)\n",
    "        # verifica se a data é o último dia do mês\n",
    "        elif dates[i+1][-2:] == '01': \n",
    "            days.append(0)\n",
    "        else:\n",
    "            days.append(date - 15) \n",
    "\n",
    "    days.append(0)\n",
    "    \n",
    "    return days    "
   ]
  },
  {
   "cell_type": "code",
   "execution_count": 127,
   "id": "611ca0dd",
   "metadata": {},
   "outputs": [
    {
     "data": {
      "text/html": [
       "<div>\n",
       "<style scoped>\n",
       "    .dataframe tbody tr th:only-of-type {\n",
       "        vertical-align: middle;\n",
       "    }\n",
       "\n",
       "    .dataframe tbody tr th {\n",
       "        vertical-align: top;\n",
       "    }\n",
       "\n",
       "    .dataframe thead th {\n",
       "        text-align: right;\n",
       "    }\n",
       "</style>\n",
       "<table border=\"1\" class=\"dataframe\">\n",
       "  <thead>\n",
       "    <tr style=\"text-align: right;\">\n",
       "      <th></th>\n",
       "      <th>lag1</th>\n",
       "      <th>lag2</th>\n",
       "      <th>lag6</th>\n",
       "      <th>lag7</th>\n",
       "      <th>lag14</th>\n",
       "      <th>onpromotion</th>\n",
       "      <th>oil</th>\n",
       "      <th>holiday</th>\n",
       "      <th>days_from_payment</th>\n",
       "    </tr>\n",
       "    <tr>\n",
       "      <th>date</th>\n",
       "      <th></th>\n",
       "      <th></th>\n",
       "      <th></th>\n",
       "      <th></th>\n",
       "      <th></th>\n",
       "      <th></th>\n",
       "      <th></th>\n",
       "      <th></th>\n",
       "      <th></th>\n",
       "    </tr>\n",
       "  </thead>\n",
       "  <tbody>\n",
       "    <tr>\n",
       "      <th>2015-05-18</th>\n",
       "      <td>390.0</td>\n",
       "      <td>308.0</td>\n",
       "      <td>165.0</td>\n",
       "      <td>227.0</td>\n",
       "      <td>250.0</td>\n",
       "      <td>1</td>\n",
       "      <td>59.44</td>\n",
       "      <td>0</td>\n",
       "      <td>3.0</td>\n",
       "    </tr>\n",
       "    <tr>\n",
       "      <th>2015-05-19</th>\n",
       "      <td>245.0</td>\n",
       "      <td>390.0</td>\n",
       "      <td>190.0</td>\n",
       "      <td>165.0</td>\n",
       "      <td>215.0</td>\n",
       "      <td>1</td>\n",
       "      <td>57.30</td>\n",
       "      <td>0</td>\n",
       "      <td>4.0</td>\n",
       "    </tr>\n",
       "    <tr>\n",
       "      <th>2015-05-20</th>\n",
       "      <td>164.0</td>\n",
       "      <td>245.0</td>\n",
       "      <td>155.0</td>\n",
       "      <td>190.0</td>\n",
       "      <td>203.0</td>\n",
       "      <td>0</td>\n",
       "      <td>58.96</td>\n",
       "      <td>0</td>\n",
       "      <td>5.0</td>\n",
       "    </tr>\n",
       "    <tr>\n",
       "      <th>2015-05-21</th>\n",
       "      <td>208.0</td>\n",
       "      <td>164.0</td>\n",
       "      <td>206.0</td>\n",
       "      <td>155.0</td>\n",
       "      <td>170.0</td>\n",
       "      <td>2</td>\n",
       "      <td>60.18</td>\n",
       "      <td>0</td>\n",
       "      <td>6.0</td>\n",
       "    </tr>\n",
       "    <tr>\n",
       "      <th>2015-05-22</th>\n",
       "      <td>130.0</td>\n",
       "      <td>208.0</td>\n",
       "      <td>308.0</td>\n",
       "      <td>206.0</td>\n",
       "      <td>206.0</td>\n",
       "      <td>1</td>\n",
       "      <td>58.88</td>\n",
       "      <td>0</td>\n",
       "      <td>7.0</td>\n",
       "    </tr>\n",
       "  </tbody>\n",
       "</table>\n",
       "</div>"
      ],
      "text/plain": [
       "             lag1   lag2   lag6   lag7  lag14  onpromotion    oil  holiday  \\\n",
       "date                                                                         \n",
       "2015-05-18  390.0  308.0  165.0  227.0  250.0            1  59.44        0   \n",
       "2015-05-19  245.0  390.0  190.0  165.0  215.0            1  57.30        0   \n",
       "2015-05-20  164.0  245.0  155.0  190.0  203.0            0  58.96        0   \n",
       "2015-05-21  208.0  164.0  206.0  155.0  170.0            2  60.18        0   \n",
       "2015-05-22  130.0  208.0  308.0  206.0  206.0            1  58.88        0   \n",
       "\n",
       "            days_from_payment  \n",
       "date                           \n",
       "2015-05-18                3.0  \n",
       "2015-05-19                4.0  \n",
       "2015-05-20                5.0  \n",
       "2015-05-21                6.0  \n",
       "2015-05-22                7.0  "
      ]
     },
     "execution_count": 127,
     "metadata": {},
     "output_type": "execute_result"
    }
   ],
   "source": [
    "# cria uma nova coluna para o dataframe \"df_forecast\" contendo os dias desde o último pagamento\n",
    "df_forecast['days_from_payment'] = days_from_payment(df_forecast.index)\n",
    "df_forecast.head()"
   ]
  },
  {
   "cell_type": "markdown",
   "id": "88b03e0f",
   "metadata": {},
   "source": [
    "Com essa nova \"feature\", todas as variáveis que serão consideradas foram finalmente incluídas no dataframe. Agora falta apenas incluir a coluna com as vendas."
   ]
  },
  {
   "cell_type": "code",
   "execution_count": 128,
   "id": "288919a8",
   "metadata": {},
   "outputs": [
    {
     "data": {
      "text/html": [
       "<div>\n",
       "<style scoped>\n",
       "    .dataframe tbody tr th:only-of-type {\n",
       "        vertical-align: middle;\n",
       "    }\n",
       "\n",
       "    .dataframe tbody tr th {\n",
       "        vertical-align: top;\n",
       "    }\n",
       "\n",
       "    .dataframe thead th {\n",
       "        text-align: right;\n",
       "    }\n",
       "</style>\n",
       "<table border=\"1\" class=\"dataframe\">\n",
       "  <thead>\n",
       "    <tr style=\"text-align: right;\">\n",
       "      <th></th>\n",
       "      <th>lag1</th>\n",
       "      <th>lag2</th>\n",
       "      <th>lag6</th>\n",
       "      <th>lag7</th>\n",
       "      <th>lag14</th>\n",
       "      <th>onpromotion</th>\n",
       "      <th>oil</th>\n",
       "      <th>holiday</th>\n",
       "      <th>days_from_payment</th>\n",
       "      <th>sales</th>\n",
       "    </tr>\n",
       "    <tr>\n",
       "      <th>date</th>\n",
       "      <th></th>\n",
       "      <th></th>\n",
       "      <th></th>\n",
       "      <th></th>\n",
       "      <th></th>\n",
       "      <th></th>\n",
       "      <th></th>\n",
       "      <th></th>\n",
       "      <th></th>\n",
       "      <th></th>\n",
       "    </tr>\n",
       "  </thead>\n",
       "  <tbody>\n",
       "    <tr>\n",
       "      <th>2015-05-18</th>\n",
       "      <td>390.0</td>\n",
       "      <td>308.0</td>\n",
       "      <td>165.0</td>\n",
       "      <td>227.0</td>\n",
       "      <td>250.0</td>\n",
       "      <td>1</td>\n",
       "      <td>59.44</td>\n",
       "      <td>0</td>\n",
       "      <td>3.0</td>\n",
       "      <td>245.0</td>\n",
       "    </tr>\n",
       "    <tr>\n",
       "      <th>2015-05-19</th>\n",
       "      <td>245.0</td>\n",
       "      <td>390.0</td>\n",
       "      <td>190.0</td>\n",
       "      <td>165.0</td>\n",
       "      <td>215.0</td>\n",
       "      <td>1</td>\n",
       "      <td>57.30</td>\n",
       "      <td>0</td>\n",
       "      <td>4.0</td>\n",
       "      <td>164.0</td>\n",
       "    </tr>\n",
       "    <tr>\n",
       "      <th>2015-05-20</th>\n",
       "      <td>164.0</td>\n",
       "      <td>245.0</td>\n",
       "      <td>155.0</td>\n",
       "      <td>190.0</td>\n",
       "      <td>203.0</td>\n",
       "      <td>0</td>\n",
       "      <td>58.96</td>\n",
       "      <td>0</td>\n",
       "      <td>5.0</td>\n",
       "      <td>208.0</td>\n",
       "    </tr>\n",
       "    <tr>\n",
       "      <th>2015-05-21</th>\n",
       "      <td>208.0</td>\n",
       "      <td>164.0</td>\n",
       "      <td>206.0</td>\n",
       "      <td>155.0</td>\n",
       "      <td>170.0</td>\n",
       "      <td>2</td>\n",
       "      <td>60.18</td>\n",
       "      <td>0</td>\n",
       "      <td>6.0</td>\n",
       "      <td>130.0</td>\n",
       "    </tr>\n",
       "    <tr>\n",
       "      <th>2015-05-22</th>\n",
       "      <td>130.0</td>\n",
       "      <td>208.0</td>\n",
       "      <td>308.0</td>\n",
       "      <td>206.0</td>\n",
       "      <td>206.0</td>\n",
       "      <td>1</td>\n",
       "      <td>58.88</td>\n",
       "      <td>0</td>\n",
       "      <td>7.0</td>\n",
       "      <td>167.0</td>\n",
       "    </tr>\n",
       "  </tbody>\n",
       "</table>\n",
       "</div>"
      ],
      "text/plain": [
       "             lag1   lag2   lag6   lag7  lag14  onpromotion    oil  holiday  \\\n",
       "date                                                                         \n",
       "2015-05-18  390.0  308.0  165.0  227.0  250.0            1  59.44        0   \n",
       "2015-05-19  245.0  390.0  190.0  165.0  215.0            1  57.30        0   \n",
       "2015-05-20  164.0  245.0  155.0  190.0  203.0            0  58.96        0   \n",
       "2015-05-21  208.0  164.0  206.0  155.0  170.0            2  60.18        0   \n",
       "2015-05-22  130.0  208.0  308.0  206.0  206.0            1  58.88        0   \n",
       "\n",
       "            days_from_payment  sales  \n",
       "date                                  \n",
       "2015-05-18                3.0  245.0  \n",
       "2015-05-19                4.0  164.0  \n",
       "2015-05-20                5.0  208.0  \n",
       "2015-05-21                6.0  130.0  \n",
       "2015-05-22                7.0  167.0  "
      ]
     },
     "execution_count": 128,
     "metadata": {},
     "output_type": "execute_result"
    }
   ],
   "source": [
    "# adiciona a coluna \"sales\" ao dataframe \"df_forecast\"\n",
    "df_forecast['sales'] = df41_hc['sales'].copy()\n",
    "df_forecast.head()"
   ]
  },
  {
   "cell_type": "markdown",
   "id": "534a02e6",
   "metadata": {},
   "source": [
    "O dataframe está agora pronto para a aplicação de algorítmos de Machine Learning."
   ]
  },
  {
   "cell_type": "markdown",
   "id": "68cc3e79",
   "metadata": {},
   "source": [
    "## Aplicando o algorítmo XGBoost de regressão na previsão das vendas\n",
    "\n",
    "### Descrição geral da aplicação do método"
   ]
  },
  {
   "cell_type": "code",
   "execution_count": 129,
   "id": "b881aacd",
   "metadata": {},
   "outputs": [],
   "source": [
    "# importando as bibliotecas de Machine Learning\n",
    "import sklearn\n",
    "from xgboost.sklearn import XGBRegressor"
   ]
  },
  {
   "cell_type": "markdown",
   "id": "850d5e59",
   "metadata": {},
   "source": [
    "O algorítmo XGBoost para regressão será treinado nos dados da série e utilizado para prever as vendas em uma janela de 15 dias. Os 15 dias finais da série não serão considerados no treinamento e serão utilizados como testes da eficiência do modelo. "
   ]
  },
  {
   "cell_type": "code",
   "execution_count": 130,
   "id": "5c218d32",
   "metadata": {},
   "outputs": [],
   "source": [
    "def run_model(window, df_feat):\n",
    "    '''\n",
    "    Recebe o tamanho da janela de previsões e o dataframe pré-processado e realiza o treinamento\n",
    "    no período anterior a janela de previsão. É retornado então o modelo treinado.\n",
    "    \n",
    "    :param window: int - tamanho da janela de previsões\n",
    "    :param df_feat: dataframe\n",
    "    '''\n",
    "    X_train = df_feat.iloc[:-window, :-1]\n",
    "    y_train = df_feat.iloc[:-window, -1]\n",
    "    \n",
    "    xgb = XGBRegressor()\n",
    "    \n",
    "    xgb.fit(X_train, y_train)\n",
    "    \n",
    "    return xgb"
   ]
  },
  {
   "cell_type": "markdown",
   "id": "0f549e41",
   "metadata": {},
   "source": [
    "Existem basicamente duas maneiras de realizar as predições dentro desse método. A maneira mais simples é utilizar o modelo já treinado para fazer previsões em todas as datas selecionadas para testes. A outra maneira é realizar uma previsão na primeira data do conjunto de testes e então incluir o resultado da predição nas tabelas e retreinar o modelo para a próxima predição. Esse processo é repetido até a data final do conjunto de testes. Aqui será utilizado o primeiro procedimento."
   ]
  },
  {
   "cell_type": "code",
   "execution_count": 131,
   "id": "ac46cd75",
   "metadata": {},
   "outputs": [],
   "source": [
    "def prediction(window, df_series, df_feat, model):\n",
    "    '''\n",
    "    Recebe a janela de previsão, o dataframe da série temporal, o dataframe com as features e o modelo treinado\n",
    "    e retorna as predições dentro da janela determinada\n",
    "    \n",
    "    :param window: int - tamanho em dias da janela de previsão\n",
    "    :param df_series: dataframe - dados da séries temporal. \n",
    "                                  É utilizado para recalcular os valores das vendas nos lags correspondentes\n",
    "                                  após cada predição.\n",
    "    :param df_feat: dataframe - contém as features. É atualizado após cada previsão. \n",
    "    :param model: modelo treinado.  \n",
    "    '''\n",
    "    df_time = df_series.copy()\n",
    "    y_predictions = []\n",
    "\n",
    "    for i in range(window): \n",
    "\n",
    "        x_test = df_feat.iloc[[-window + i],:-1]\n",
    "        \n",
    "        y_predictions.append(model.predict(x_test)[0])\n",
    "        # substitui o valor das vendas pelo valor predito \n",
    "        df_time['sales'][-window + i] = y_predictions[-1]\n",
    "        # recalcula as features correspondentes aos \"lags\"    \n",
    "        df_feat.iloc[:, :len(lags)] = lag_features_frame(df_time)    \n",
    "\n",
    "    return y_predictions"
   ]
  },
  {
   "cell_type": "markdown",
   "id": "73e7c667",
   "metadata": {},
   "source": [
    "### Rodando o modelo somente com as features relacionadas às autocorrelações na série\n",
    "\n",
    "Aqui, portanto, somente as colunas correspondentes aos valores de venda nos devidos tempos anteriores."
   ]
  },
  {
   "cell_type": "code",
   "execution_count": 132,
   "id": "f3de1385",
   "metadata": {},
   "outputs": [],
   "source": [
    "# roda o modelo deixando uma janela de 15 dias para testes\n",
    "model = run_model(15, df_forecast.drop(['days_from_payment', 'oil', 'onpromotion', 'holiday'], axis = 1))"
   ]
  },
  {
   "cell_type": "code",
   "execution_count": 133,
   "id": "ecccdfbc",
   "metadata": {},
   "outputs": [
    {
     "name": "stderr",
     "output_type": "stream",
     "text": [
      "/tmp/ipykernel_15241/3768044395.py:22: SettingWithCopyWarning: \n",
      "A value is trying to be set on a copy of a slice from a DataFrame\n",
      "\n",
      "See the caveats in the documentation: https://pandas.pydata.org/pandas-docs/stable/user_guide/indexing.html#returning-a-view-versus-a-copy\n",
      "  df_time['sales'][-window + i] = y_predictions[-1]\n",
      "/tmp/ipykernel_15241/3768044395.py:22: SettingWithCopyWarning: \n",
      "A value is trying to be set on a copy of a slice from a DataFrame\n",
      "\n",
      "See the caveats in the documentation: https://pandas.pydata.org/pandas-docs/stable/user_guide/indexing.html#returning-a-view-versus-a-copy\n",
      "  df_time['sales'][-window + i] = y_predictions[-1]\n",
      "/tmp/ipykernel_15241/3768044395.py:22: SettingWithCopyWarning: \n",
      "A value is trying to be set on a copy of a slice from a DataFrame\n",
      "\n",
      "See the caveats in the documentation: https://pandas.pydata.org/pandas-docs/stable/user_guide/indexing.html#returning-a-view-versus-a-copy\n",
      "  df_time['sales'][-window + i] = y_predictions[-1]\n",
      "/tmp/ipykernel_15241/3768044395.py:22: SettingWithCopyWarning: \n",
      "A value is trying to be set on a copy of a slice from a DataFrame\n",
      "\n",
      "See the caveats in the documentation: https://pandas.pydata.org/pandas-docs/stable/user_guide/indexing.html#returning-a-view-versus-a-copy\n",
      "  df_time['sales'][-window + i] = y_predictions[-1]\n",
      "/tmp/ipykernel_15241/3768044395.py:22: SettingWithCopyWarning: \n",
      "A value is trying to be set on a copy of a slice from a DataFrame\n",
      "\n",
      "See the caveats in the documentation: https://pandas.pydata.org/pandas-docs/stable/user_guide/indexing.html#returning-a-view-versus-a-copy\n",
      "  df_time['sales'][-window + i] = y_predictions[-1]\n",
      "/tmp/ipykernel_15241/3768044395.py:22: SettingWithCopyWarning: \n",
      "A value is trying to be set on a copy of a slice from a DataFrame\n",
      "\n",
      "See the caveats in the documentation: https://pandas.pydata.org/pandas-docs/stable/user_guide/indexing.html#returning-a-view-versus-a-copy\n",
      "  df_time['sales'][-window + i] = y_predictions[-1]\n",
      "/tmp/ipykernel_15241/3768044395.py:22: SettingWithCopyWarning: \n",
      "A value is trying to be set on a copy of a slice from a DataFrame\n",
      "\n",
      "See the caveats in the documentation: https://pandas.pydata.org/pandas-docs/stable/user_guide/indexing.html#returning-a-view-versus-a-copy\n",
      "  df_time['sales'][-window + i] = y_predictions[-1]\n",
      "/tmp/ipykernel_15241/3768044395.py:22: SettingWithCopyWarning: \n",
      "A value is trying to be set on a copy of a slice from a DataFrame\n",
      "\n",
      "See the caveats in the documentation: https://pandas.pydata.org/pandas-docs/stable/user_guide/indexing.html#returning-a-view-versus-a-copy\n",
      "  df_time['sales'][-window + i] = y_predictions[-1]\n",
      "/tmp/ipykernel_15241/3768044395.py:22: SettingWithCopyWarning: \n",
      "A value is trying to be set on a copy of a slice from a DataFrame\n",
      "\n",
      "See the caveats in the documentation: https://pandas.pydata.org/pandas-docs/stable/user_guide/indexing.html#returning-a-view-versus-a-copy\n",
      "  df_time['sales'][-window + i] = y_predictions[-1]\n",
      "/tmp/ipykernel_15241/3768044395.py:22: SettingWithCopyWarning: \n",
      "A value is trying to be set on a copy of a slice from a DataFrame\n",
      "\n",
      "See the caveats in the documentation: https://pandas.pydata.org/pandas-docs/stable/user_guide/indexing.html#returning-a-view-versus-a-copy\n",
      "  df_time['sales'][-window + i] = y_predictions[-1]\n",
      "/tmp/ipykernel_15241/3768044395.py:22: SettingWithCopyWarning: \n",
      "A value is trying to be set on a copy of a slice from a DataFrame\n",
      "\n",
      "See the caveats in the documentation: https://pandas.pydata.org/pandas-docs/stable/user_guide/indexing.html#returning-a-view-versus-a-copy\n",
      "  df_time['sales'][-window + i] = y_predictions[-1]\n",
      "/tmp/ipykernel_15241/3768044395.py:22: SettingWithCopyWarning: \n",
      "A value is trying to be set on a copy of a slice from a DataFrame\n",
      "\n",
      "See the caveats in the documentation: https://pandas.pydata.org/pandas-docs/stable/user_guide/indexing.html#returning-a-view-versus-a-copy\n",
      "  df_time['sales'][-window + i] = y_predictions[-1]\n",
      "/tmp/ipykernel_15241/3768044395.py:22: SettingWithCopyWarning: \n",
      "A value is trying to be set on a copy of a slice from a DataFrame\n",
      "\n",
      "See the caveats in the documentation: https://pandas.pydata.org/pandas-docs/stable/user_guide/indexing.html#returning-a-view-versus-a-copy\n",
      "  df_time['sales'][-window + i] = y_predictions[-1]\n",
      "/tmp/ipykernel_15241/3768044395.py:22: SettingWithCopyWarning: \n",
      "A value is trying to be set on a copy of a slice from a DataFrame\n",
      "\n",
      "See the caveats in the documentation: https://pandas.pydata.org/pandas-docs/stable/user_guide/indexing.html#returning-a-view-versus-a-copy\n",
      "  df_time['sales'][-window + i] = y_predictions[-1]\n",
      "/tmp/ipykernel_15241/3768044395.py:22: SettingWithCopyWarning: \n",
      "A value is trying to be set on a copy of a slice from a DataFrame\n",
      "\n",
      "See the caveats in the documentation: https://pandas.pydata.org/pandas-docs/stable/user_guide/indexing.html#returning-a-view-versus-a-copy\n",
      "  df_time['sales'][-window + i] = y_predictions[-1]\n"
     ]
    }
   ],
   "source": [
    "# faz predições na janela de 15 dias de testes\n",
    "y_pred = prediction(15, df41_hc, df_forecast.drop(['days_from_payment', 'oil', 'onpromotion', 'holiday'], axis = 1), model)"
   ]
  },
  {
   "cell_type": "code",
   "execution_count": 134,
   "id": "0ad79da8",
   "metadata": {},
   "outputs": [],
   "source": [
    "# seleciona os valores realizados na janela de teste para serem comparados com os preditos\n",
    "y_true = df41_hc.iloc[-15:, :]['sales']"
   ]
  },
  {
   "cell_type": "code",
   "execution_count": 135,
   "id": "804406f5",
   "metadata": {},
   "outputs": [],
   "source": [
    "# importa o pacote mean_absolute_error, que computa a métrica de avaliação de mesmo nome\n",
    "from sklearn.metrics import mean_absolute_error"
   ]
  },
  {
   "cell_type": "code",
   "execution_count": 136,
   "id": "236ffbb3",
   "metadata": {},
   "outputs": [
    {
     "name": "stdout",
     "output_type": "stream",
     "text": [
      "MAE1 = 48.22807006835937\n"
     ]
    }
   ],
   "source": [
    "MAE1 = mean_absolute_error(y_true, y_pred)\n",
    "\n",
    "print('MAE1 = {}'.format(MAE1))"
   ]
  },
  {
   "cell_type": "code",
   "execution_count": 137,
   "id": "cc3860c5",
   "metadata": {},
   "outputs": [
    {
     "data": {
      "image/png": "[encoded data removed]",
      "text/plain": [
       "<Figure size 864x432 with 1 Axes>"
      ]
     },
     "metadata": {
      "needs_background": "light"
     },
     "output_type": "display_data"
    }
   ],
   "source": [
    "# visualizando as predições\n",
    "\n",
    "#cria um dataframe com as precições, para serem exibidas na mesma figura da série realizada\n",
    "df_pred = pd.DataFrame(y_pred, columns = ['sales'], index = y_true.index)\n",
    "\n",
    "plt.figure(figsize = (12, 6))\n",
    "plt.plot(df41_hc['sales'], label = 'Série realizada', color = 'b')\n",
    "plt.plot(df_pred, label = 'Predições', color = 'r', linestyle = '-')\n",
    "plt.xlim('2017-07-01','2017-08-15')\n",
    "plt.xticks(pd.date_range('2017-07-01', periods = 7,  freq='W').strftime(\"%Y-%m-%d\"))\n",
    "plt.legend(loc = 'lower right', prop={'size': 18}, frameon = False)\n",
    "plt.ylabel('N. itens vendidos', fontsize = 15)\n",
    "plt.show()"
   ]
  },
  {
   "cell_type": "markdown",
   "id": "7d681779",
   "metadata": {},
   "source": [
    "### Rodando o modelo com todas as features "
   ]
  },
  {
   "cell_type": "code",
   "execution_count": 48,
   "id": "67bbdb6d",
   "metadata": {},
   "outputs": [],
   "source": [
    "# roda o modelo deixando uma janela de 15 dias para testes\n",
    "model2 = run_model(15, df_forecast)"
   ]
  },
  {
   "cell_type": "code",
   "execution_count": 49,
   "id": "96edbb8f",
   "metadata": {},
   "outputs": [
    {
     "name": "stderr",
     "output_type": "stream",
     "text": [
      "/tmp/ipykernel_15241/3768044395.py:22: SettingWithCopyWarning: \n",
      "A value is trying to be set on a copy of a slice from a DataFrame\n",
      "\n",
      "See the caveats in the documentation: https://pandas.pydata.org/pandas-docs/stable/user_guide/indexing.html#returning-a-view-versus-a-copy\n",
      "  df_time['sales'][-window + i] = y_predictions[-1]\n",
      "/tmp/ipykernel_15241/3768044395.py:22: SettingWithCopyWarning: \n",
      "A value is trying to be set on a copy of a slice from a DataFrame\n",
      "\n",
      "See the caveats in the documentation: https://pandas.pydata.org/pandas-docs/stable/user_guide/indexing.html#returning-a-view-versus-a-copy\n",
      "  df_time['sales'][-window + i] = y_predictions[-1]\n",
      "/tmp/ipykernel_15241/3768044395.py:22: SettingWithCopyWarning: \n",
      "A value is trying to be set on a copy of a slice from a DataFrame\n",
      "\n",
      "See the caveats in the documentation: https://pandas.pydata.org/pandas-docs/stable/user_guide/indexing.html#returning-a-view-versus-a-copy\n",
      "  df_time['sales'][-window + i] = y_predictions[-1]\n",
      "/tmp/ipykernel_15241/3768044395.py:22: SettingWithCopyWarning: \n",
      "A value is trying to be set on a copy of a slice from a DataFrame\n",
      "\n",
      "See the caveats in the documentation: https://pandas.pydata.org/pandas-docs/stable/user_guide/indexing.html#returning-a-view-versus-a-copy\n",
      "  df_time['sales'][-window + i] = y_predictions[-1]\n",
      "/tmp/ipykernel_15241/3768044395.py:22: SettingWithCopyWarning: \n",
      "A value is trying to be set on a copy of a slice from a DataFrame\n",
      "\n",
      "See the caveats in the documentation: https://pandas.pydata.org/pandas-docs/stable/user_guide/indexing.html#returning-a-view-versus-a-copy\n",
      "  df_time['sales'][-window + i] = y_predictions[-1]\n",
      "/tmp/ipykernel_15241/3768044395.py:22: SettingWithCopyWarning: \n",
      "A value is trying to be set on a copy of a slice from a DataFrame\n",
      "\n",
      "See the caveats in the documentation: https://pandas.pydata.org/pandas-docs/stable/user_guide/indexing.html#returning-a-view-versus-a-copy\n",
      "  df_time['sales'][-window + i] = y_predictions[-1]\n",
      "/tmp/ipykernel_15241/3768044395.py:22: SettingWithCopyWarning: \n",
      "A value is trying to be set on a copy of a slice from a DataFrame\n",
      "\n",
      "See the caveats in the documentation: https://pandas.pydata.org/pandas-docs/stable/user_guide/indexing.html#returning-a-view-versus-a-copy\n",
      "  df_time['sales'][-window + i] = y_predictions[-1]\n",
      "/tmp/ipykernel_15241/3768044395.py:22: SettingWithCopyWarning: \n",
      "A value is trying to be set on a copy of a slice from a DataFrame\n",
      "\n",
      "See the caveats in the documentation: https://pandas.pydata.org/pandas-docs/stable/user_guide/indexing.html#returning-a-view-versus-a-copy\n",
      "  df_time['sales'][-window + i] = y_predictions[-1]\n",
      "/tmp/ipykernel_15241/3768044395.py:22: SettingWithCopyWarning: \n",
      "A value is trying to be set on a copy of a slice from a DataFrame\n",
      "\n",
      "See the caveats in the documentation: https://pandas.pydata.org/pandas-docs/stable/user_guide/indexing.html#returning-a-view-versus-a-copy\n",
      "  df_time['sales'][-window + i] = y_predictions[-1]\n",
      "/tmp/ipykernel_15241/3768044395.py:22: SettingWithCopyWarning: \n",
      "A value is trying to be set on a copy of a slice from a DataFrame\n",
      "\n",
      "See the caveats in the documentation: https://pandas.pydata.org/pandas-docs/stable/user_guide/indexing.html#returning-a-view-versus-a-copy\n",
      "  df_time['sales'][-window + i] = y_predictions[-1]\n",
      "/tmp/ipykernel_15241/3768044395.py:22: SettingWithCopyWarning: \n",
      "A value is trying to be set on a copy of a slice from a DataFrame\n",
      "\n",
      "See the caveats in the documentation: https://pandas.pydata.org/pandas-docs/stable/user_guide/indexing.html#returning-a-view-versus-a-copy\n",
      "  df_time['sales'][-window + i] = y_predictions[-1]\n",
      "/tmp/ipykernel_15241/3768044395.py:22: SettingWithCopyWarning: \n",
      "A value is trying to be set on a copy of a slice from a DataFrame\n",
      "\n",
      "See the caveats in the documentation: https://pandas.pydata.org/pandas-docs/stable/user_guide/indexing.html#returning-a-view-versus-a-copy\n",
      "  df_time['sales'][-window + i] = y_predictions[-1]\n",
      "/tmp/ipykernel_15241/3768044395.py:22: SettingWithCopyWarning: \n",
      "A value is trying to be set on a copy of a slice from a DataFrame\n",
      "\n",
      "See the caveats in the documentation: https://pandas.pydata.org/pandas-docs/stable/user_guide/indexing.html#returning-a-view-versus-a-copy\n",
      "  df_time['sales'][-window + i] = y_predictions[-1]\n",
      "/tmp/ipykernel_15241/3768044395.py:22: SettingWithCopyWarning: \n",
      "A value is trying to be set on a copy of a slice from a DataFrame\n",
      "\n",
      "See the caveats in the documentation: https://pandas.pydata.org/pandas-docs/stable/user_guide/indexing.html#returning-a-view-versus-a-copy\n",
      "  df_time['sales'][-window + i] = y_predictions[-1]\n",
      "/tmp/ipykernel_15241/3768044395.py:22: SettingWithCopyWarning: \n",
      "A value is trying to be set on a copy of a slice from a DataFrame\n",
      "\n",
      "See the caveats in the documentation: https://pandas.pydata.org/pandas-docs/stable/user_guide/indexing.html#returning-a-view-versus-a-copy\n",
      "  df_time['sales'][-window + i] = y_predictions[-1]\n"
     ]
    }
   ],
   "source": [
    "# faz predições na janela de 15 dias de testes\n",
    "y_pred2 = prediction(15, df41_hc, df_forecast, model2)"
   ]
  },
  {
   "cell_type": "code",
   "execution_count": 50,
   "id": "c7e3446b",
   "metadata": {},
   "outputs": [
    {
     "name": "stdout",
     "output_type": "stream",
     "text": [
      "MAE2 = 46.45408325195312\n"
     ]
    }
   ],
   "source": [
    "MAE2 = mean_absolute_error(y_true, y_pred2)\n",
    "\n",
    "print('MAE2 = {}'.format(MAE2))"
   ]
  },
  {
   "cell_type": "code",
   "execution_count": 51,
   "id": "a03035c7",
   "metadata": {},
   "outputs": [
    {
     "data": {
      "image/png": "[encoded data removed]",
      "text/plain": [
       "<Figure size 864x432 with 1 Axes>"
      ]
     },
     "metadata": {
      "needs_background": "light"
     },
     "output_type": "display_data"
    }
   ],
   "source": [
    "# visualizando as predições\n",
    "\n",
    "#cria um dataframe com as precições, para serem exibidas na mesma figra da série realizada\n",
    "df_pred2 = pd.DataFrame(y_pred2, columns = ['sales'], index = y_true.index)\n",
    "\n",
    "plt.figure(figsize = (12, 6))\n",
    "plt.plot(df41_hc['sales'], label = 'Série realizada', color = 'b')\n",
    "plt.plot(df_pred2, label = 'Predições', color = 'r', linestyle = '-')\n",
    "plt.xlim('2017-07-01','2017-08-15')\n",
    "plt.xticks(pd.date_range('2017-07-01', periods = 7,  freq='W').strftime(\"%Y-%m-%d\"))\n",
    "plt.legend(loc = 'lower right', prop={'size': 18}, frameon = False)\n",
    "plt.ylabel('N. itens vendidos', fontsize = 15)\n",
    "plt.show()"
   ]
  },
  {
   "cell_type": "markdown",
   "id": "4ec78112",
   "metadata": {},
   "source": [
    "### Rodando o modelo sem a informação sobre os pagamentos"
   ]
  },
  {
   "cell_type": "code",
   "execution_count": 52,
   "id": "c23f9b27",
   "metadata": {},
   "outputs": [],
   "source": [
    "# roda o modelo deixando uma janela de 15 dias para testes\n",
    "model3 = run_model(15, df_forecast.drop(['days_from_payment'], axis = 1))"
   ]
  },
  {
   "cell_type": "code",
   "execution_count": 53,
   "id": "69d09446",
   "metadata": {},
   "outputs": [
    {
     "name": "stderr",
     "output_type": "stream",
     "text": [
      "/tmp/ipykernel_15241/3768044395.py:22: SettingWithCopyWarning: \n",
      "A value is trying to be set on a copy of a slice from a DataFrame\n",
      "\n",
      "See the caveats in the documentation: https://pandas.pydata.org/pandas-docs/stable/user_guide/indexing.html#returning-a-view-versus-a-copy\n",
      "  df_time['sales'][-window + i] = y_predictions[-1]\n",
      "/tmp/ipykernel_15241/3768044395.py:22: SettingWithCopyWarning: \n",
      "A value is trying to be set on a copy of a slice from a DataFrame\n",
      "\n",
      "See the caveats in the documentation: https://pandas.pydata.org/pandas-docs/stable/user_guide/indexing.html#returning-a-view-versus-a-copy\n",
      "  df_time['sales'][-window + i] = y_predictions[-1]\n",
      "/tmp/ipykernel_15241/3768044395.py:22: SettingWithCopyWarning: \n",
      "A value is trying to be set on a copy of a slice from a DataFrame\n",
      "\n",
      "See the caveats in the documentation: https://pandas.pydata.org/pandas-docs/stable/user_guide/indexing.html#returning-a-view-versus-a-copy\n",
      "  df_time['sales'][-window + i] = y_predictions[-1]\n",
      "/tmp/ipykernel_15241/3768044395.py:22: SettingWithCopyWarning: \n",
      "A value is trying to be set on a copy of a slice from a DataFrame\n",
      "\n",
      "See the caveats in the documentation: https://pandas.pydata.org/pandas-docs/stable/user_guide/indexing.html#returning-a-view-versus-a-copy\n",
      "  df_time['sales'][-window + i] = y_predictions[-1]\n",
      "/tmp/ipykernel_15241/3768044395.py:22: SettingWithCopyWarning: \n",
      "A value is trying to be set on a copy of a slice from a DataFrame\n",
      "\n",
      "See the caveats in the documentation: https://pandas.pydata.org/pandas-docs/stable/user_guide/indexing.html#returning-a-view-versus-a-copy\n",
      "  df_time['sales'][-window + i] = y_predictions[-1]\n",
      "/tmp/ipykernel_15241/3768044395.py:22: SettingWithCopyWarning: \n",
      "A value is trying to be set on a copy of a slice from a DataFrame\n",
      "\n",
      "See the caveats in the documentation: https://pandas.pydata.org/pandas-docs/stable/user_guide/indexing.html#returning-a-view-versus-a-copy\n",
      "  df_time['sales'][-window + i] = y_predictions[-1]\n",
      "/tmp/ipykernel_15241/3768044395.py:22: SettingWithCopyWarning: \n",
      "A value is trying to be set on a copy of a slice from a DataFrame\n",
      "\n",
      "See the caveats in the documentation: https://pandas.pydata.org/pandas-docs/stable/user_guide/indexing.html#returning-a-view-versus-a-copy\n",
      "  df_time['sales'][-window + i] = y_predictions[-1]\n",
      "/tmp/ipykernel_15241/3768044395.py:22: SettingWithCopyWarning: \n",
      "A value is trying to be set on a copy of a slice from a DataFrame\n",
      "\n",
      "See the caveats in the documentation: https://pandas.pydata.org/pandas-docs/stable/user_guide/indexing.html#returning-a-view-versus-a-copy\n",
      "  df_time['sales'][-window + i] = y_predictions[-1]\n",
      "/tmp/ipykernel_15241/3768044395.py:22: SettingWithCopyWarning: \n",
      "A value is trying to be set on a copy of a slice from a DataFrame\n",
      "\n",
      "See the caveats in the documentation: https://pandas.pydata.org/pandas-docs/stable/user_guide/indexing.html#returning-a-view-versus-a-copy\n",
      "  df_time['sales'][-window + i] = y_predictions[-1]\n",
      "/tmp/ipykernel_15241/3768044395.py:22: SettingWithCopyWarning: \n",
      "A value is trying to be set on a copy of a slice from a DataFrame\n",
      "\n",
      "See the caveats in the documentation: https://pandas.pydata.org/pandas-docs/stable/user_guide/indexing.html#returning-a-view-versus-a-copy\n",
      "  df_time['sales'][-window + i] = y_predictions[-1]\n",
      "/tmp/ipykernel_15241/3768044395.py:22: SettingWithCopyWarning: \n",
      "A value is trying to be set on a copy of a slice from a DataFrame\n",
      "\n",
      "See the caveats in the documentation: https://pandas.pydata.org/pandas-docs/stable/user_guide/indexing.html#returning-a-view-versus-a-copy\n",
      "  df_time['sales'][-window + i] = y_predictions[-1]\n",
      "/tmp/ipykernel_15241/3768044395.py:22: SettingWithCopyWarning: \n",
      "A value is trying to be set on a copy of a slice from a DataFrame\n",
      "\n",
      "See the caveats in the documentation: https://pandas.pydata.org/pandas-docs/stable/user_guide/indexing.html#returning-a-view-versus-a-copy\n",
      "  df_time['sales'][-window + i] = y_predictions[-1]\n",
      "/tmp/ipykernel_15241/3768044395.py:22: SettingWithCopyWarning: \n",
      "A value is trying to be set on a copy of a slice from a DataFrame\n",
      "\n",
      "See the caveats in the documentation: https://pandas.pydata.org/pandas-docs/stable/user_guide/indexing.html#returning-a-view-versus-a-copy\n",
      "  df_time['sales'][-window + i] = y_predictions[-1]\n",
      "/tmp/ipykernel_15241/3768044395.py:22: SettingWithCopyWarning: \n",
      "A value is trying to be set on a copy of a slice from a DataFrame\n",
      "\n",
      "See the caveats in the documentation: https://pandas.pydata.org/pandas-docs/stable/user_guide/indexing.html#returning-a-view-versus-a-copy\n",
      "  df_time['sales'][-window + i] = y_predictions[-1]\n",
      "/tmp/ipykernel_15241/3768044395.py:22: SettingWithCopyWarning: \n",
      "A value is trying to be set on a copy of a slice from a DataFrame\n",
      "\n",
      "See the caveats in the documentation: https://pandas.pydata.org/pandas-docs/stable/user_guide/indexing.html#returning-a-view-versus-a-copy\n",
      "  df_time['sales'][-window + i] = y_predictions[-1]\n"
     ]
    }
   ],
   "source": [
    "# faz predições na janela de 15 dias de testes\n",
    "y_pred3 = prediction(15, df41_hc, df_forecast.drop(['days_from_payment'], axis = 1), model3)"
   ]
  },
  {
   "cell_type": "code",
   "execution_count": 54,
   "id": "27075ab6",
   "metadata": {},
   "outputs": [
    {
     "name": "stdout",
     "output_type": "stream",
     "text": [
      "MAE3 = 37.45216776529948\n"
     ]
    }
   ],
   "source": [
    "MAE3 = mean_absolute_error(y_true, y_pred3)\n",
    "\n",
    "print('MAE3 = {}'.format(MAE3))"
   ]
  },
  {
   "cell_type": "code",
   "execution_count": 55,
   "id": "6539e361",
   "metadata": {},
   "outputs": [
    {
     "data": {
      "image/png": "[encoded data removed]",
      "text/plain": [
       "<Figure size 864x432 with 1 Axes>"
      ]
     },
     "metadata": {
      "needs_background": "light"
     },
     "output_type": "display_data"
    }
   ],
   "source": [
    "# visualizando as predições\n",
    "\n",
    "#cria um dataframe com as precições, para serem exibidas na mesma figra da série realizada\n",
    "df_pred3 = pd.DataFrame(y_pred3, columns = ['sales'], index = y_true.index)\n",
    "\n",
    "plt.figure(figsize = (12, 6))\n",
    "plt.plot(df41_hc['sales'], label = 'Série realizada', color = 'b')\n",
    "plt.plot(df_pred3, label = 'Predições', color = 'r', linestyle = '-')\n",
    "plt.xlim('2017-07-01','2017-08-15')\n",
    "#plt.xticks(['2017-07-15'])\n",
    "plt.xticks(pd.date_range('2017-07-01', periods = 7,  freq='W').strftime(\"%Y-%m-%d\"))\n",
    "plt.legend(loc = 'lower right', prop={'size': 18}, frameon = False)\n",
    "plt.ylabel('N. itens vendidos', fontsize = 15)\n",
    "plt.show()"
   ]
  },
  {
   "cell_type": "markdown",
   "id": "378dc67a",
   "metadata": {},
   "source": [
    "Esse é o modelo de melhor performance dentre os modelos testados.\n",
    "\n"
   ]
  },
  {
   "cell_type": "markdown",
   "id": "1a50a852",
   "metadata": {},
   "source": [
    "## Variáveis de importância\n",
    "\n",
    "Para esse último modelo, será calculada a importância relativa de cada variável."
   ]
  },
  {
   "cell_type": "code",
   "execution_count": 60,
   "id": "99a17c80",
   "metadata": {},
   "outputs": [],
   "source": [
    "# calcula a importância relativa das variáveis\n",
    "feat_importances = model3.feature_importances_"
   ]
  },
  {
   "cell_type": "code",
   "execution_count": 67,
   "id": "c1190d59",
   "metadata": {},
   "outputs": [
    {
     "data": {
      "image/png": "[encoded data removed]",
      "text/plain": [
       "<Figure size 864x432 with 1 Axes>"
      ]
     },
     "metadata": {
      "needs_background": "light"
     },
     "output_type": "display_data"
    }
   ],
   "source": [
    "# ordena as variáveis em ordem ascendente de importância\n",
    "sorted_feat_imp = np.sort(feat_importances)\n",
    "\n",
    "# guarda a nova ordem dos índices após o reordenamento\n",
    "arg = feat_importances.argsort()\n",
    "\n",
    "# retorna o nome das variáveis\n",
    "feature_names = df_forecast.drop(columns = ['days_from_payment', 'sales']).columns\n",
    "\n",
    "# reordena os nomes de acordo com o ordenamento de importância\n",
    "sorted_feat_names = feature_names[arg]\n",
    "\n",
    "# barplot da importância relativa\n",
    "fig = plt.figure(figsize = (12, 6))\n",
    "plt.barh(sorted_feat_names, sorted_feat_imp)\n",
    "plt.xticks(fontsize = 16, rotation = 90)\n",
    "plt.yticks(fontsize = 16)\n",
    "plt.title('Importância Relativa \\n', fontsize = 20)\n",
    "plt.show()"
   ]
  },
  {
   "cell_type": "markdown",
   "id": "df9f022d",
   "metadata": {},
   "source": [
    "## Referências"
   ]
  },
  {
   "cell_type": "markdown",
   "id": "27bf10c7",
   "metadata": {},
   "source": [
    "- Fonte dos dados: https://www.kaggle.com/competitions/store-sales-time-series-forecasting/data\n",
    "- Sobre a aplicação de Machine Learning em previsões de séries temporais: https://towardsdatascience.com/ml-time-series-forecasting-the-right-way-cbf3678845ff"
   ]
  }
 ],
 "metadata": {
  "kernelspec": {
   "display_name": "Python 3 (ipykernel)",
   "language": "python",
   "name": "python3"
  },
  "language_info": {
   "codemirror_mode": {
    "name": "ipython",
    "version": 3
   },
   "file_extension": ".py",
   "mimetype": "text/x-python",
   "name": "python",
   "nbconvert_exporter": "python",
   "pygments_lexer": "ipython3",
   "version": "3.10.6"
  }
 },
 "nbformat": 4,
 "nbformat_minor": 5
}
